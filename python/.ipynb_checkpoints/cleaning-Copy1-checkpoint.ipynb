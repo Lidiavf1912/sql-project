{
 "cells": [
  {
   "cell_type": "code",
   "execution_count": 1,
   "id": "47d78e87",
   "metadata": {},
   "outputs": [],
   "source": [
    "import pandas as pd\n",
    "import numpy as np\n",
    "import re\n",
    "import warnings \n",
    "warnings.filterwarnings('ignore')\n",
    "pd.set_option('display.max_columns', None)\n",
    "import matplotlib.pyplot as plt"
   ]
  },
  {
   "cell_type": "code",
   "execution_count": 2,
   "id": "6083d25f",
   "metadata": {},
   "outputs": [],
   "source": [
    "actor= pd.read_csv('../csv/originales/actor.csv', encoding='iso-8859-1')"
   ]
  },
  {
   "cell_type": "code",
   "execution_count": 3,
   "id": "c9e600c9",
   "metadata": {},
   "outputs": [],
   "source": [
    "categ= pd.read_csv('../csv/originales/category.csv', encoding='iso-8859-1')"
   ]
  },
  {
   "cell_type": "code",
   "execution_count": 4,
   "id": "696dc0de",
   "metadata": {},
   "outputs": [],
   "source": [
    "lang= pd.read_csv('../csv/originales/language.csv', encoding='iso-8859-1')"
   ]
  },
  {
   "cell_type": "code",
   "execution_count": 5,
   "id": "1f1c92d2",
   "metadata": {},
   "outputs": [],
   "source": [
    "inven= pd.read_csv('../csv/originales/inventory.csv', encoding='iso-8859-1')"
   ]
  },
  {
   "cell_type": "code",
   "execution_count": 6,
   "id": "29585047",
   "metadata": {},
   "outputs": [],
   "source": [
    "old= pd.read_csv('../csv/originales/old_HDD.csv', encoding='iso-8859-1')"
   ]
  },
  {
   "cell_type": "code",
   "execution_count": 7,
   "id": "09dafc0c",
   "metadata": {},
   "outputs": [],
   "source": [
    "rent= pd.read_csv('../csv/originales/rental.csv', encoding='iso-8859-1')"
   ]
  },
  {
   "cell_type": "code",
   "execution_count": 8,
   "id": "47509c3d",
   "metadata": {},
   "outputs": [],
   "source": [
    "film= pd.read_csv('../csv/originales/film.csv', encoding='iso-8859-1')"
   ]
  },
  {
   "cell_type": "markdown",
   "id": "a5f099a2",
   "metadata": {},
   "source": [
    "**A lo largo de este proyecto vamos a limpiar estos csvs para poder realizar posteriormente una base de datos con ellos, relacionando todos los archivos entre ellos.**"
   ]
  },
  {
   "cell_type": "markdown",
   "id": "b097e861",
   "metadata": {},
   "source": [
    "# Actor CSV"
   ]
  },
  {
   "cell_type": "markdown",
   "id": "74769c20",
   "metadata": {},
   "source": [
    "**Lo primero que realizo es mirar el número de filas y columnas del archivo y que hay en cada una:**"
   ]
  },
  {
   "cell_type": "code",
   "execution_count": 9,
   "id": "2b183566",
   "metadata": {},
   "outputs": [
    {
     "data": {
      "text/plain": [
       "(200, 4)"
      ]
     },
     "execution_count": 9,
     "metadata": {},
     "output_type": "execute_result"
    }
   ],
   "source": [
    "actor.shape"
   ]
  },
  {
   "cell_type": "code",
   "execution_count": 10,
   "id": "6b611df0",
   "metadata": {},
   "outputs": [
    {
     "data": {
      "text/html": [
       "<div>\n",
       "<style scoped>\n",
       "    .dataframe tbody tr th:only-of-type {\n",
       "        vertical-align: middle;\n",
       "    }\n",
       "\n",
       "    .dataframe tbody tr th {\n",
       "        vertical-align: top;\n",
       "    }\n",
       "\n",
       "    .dataframe thead th {\n",
       "        text-align: right;\n",
       "    }\n",
       "</style>\n",
       "<table border=\"1\" class=\"dataframe\">\n",
       "  <thead>\n",
       "    <tr style=\"text-align: right;\">\n",
       "      <th></th>\n",
       "      <th>actor_id</th>\n",
       "      <th>first_name</th>\n",
       "      <th>last_name</th>\n",
       "      <th>last_update</th>\n",
       "    </tr>\n",
       "  </thead>\n",
       "  <tbody>\n",
       "    <tr>\n",
       "      <th>0</th>\n",
       "      <td>1</td>\n",
       "      <td>PENELOPE</td>\n",
       "      <td>GUINESS</td>\n",
       "      <td>2006-02-15 04:34:33</td>\n",
       "    </tr>\n",
       "    <tr>\n",
       "      <th>1</th>\n",
       "      <td>2</td>\n",
       "      <td>NICK</td>\n",
       "      <td>WAHLBERG</td>\n",
       "      <td>2006-02-15 04:34:33</td>\n",
       "    </tr>\n",
       "    <tr>\n",
       "      <th>2</th>\n",
       "      <td>3</td>\n",
       "      <td>ED</td>\n",
       "      <td>CHASE</td>\n",
       "      <td>2006-02-15 04:34:33</td>\n",
       "    </tr>\n",
       "    <tr>\n",
       "      <th>3</th>\n",
       "      <td>4</td>\n",
       "      <td>JENNIFER</td>\n",
       "      <td>DAVIS</td>\n",
       "      <td>2006-02-15 04:34:33</td>\n",
       "    </tr>\n",
       "    <tr>\n",
       "      <th>4</th>\n",
       "      <td>5</td>\n",
       "      <td>JOHNNY</td>\n",
       "      <td>LOLLOBRIGIDA</td>\n",
       "      <td>2006-02-15 04:34:33</td>\n",
       "    </tr>\n",
       "  </tbody>\n",
       "</table>\n",
       "</div>"
      ],
      "text/plain": [
       "   actor_id first_name     last_name          last_update\n",
       "0         1   PENELOPE       GUINESS  2006-02-15 04:34:33\n",
       "1         2       NICK      WAHLBERG  2006-02-15 04:34:33\n",
       "2         3         ED         CHASE  2006-02-15 04:34:33\n",
       "3         4   JENNIFER         DAVIS  2006-02-15 04:34:33\n",
       "4         5     JOHNNY  LOLLOBRIGIDA  2006-02-15 04:34:33"
      ]
     },
     "execution_count": 10,
     "metadata": {},
     "output_type": "execute_result"
    }
   ],
   "source": [
    "#pd.set_option('display.max_rows', None)\n",
    "actor.head()"
   ]
  },
  {
   "cell_type": "markdown",
   "id": "f0b09950",
   "metadata": {},
   "source": [
    "**Se puede ver que la columna 'last_update' es identica para todas las filas,entonces se puede eliminar**"
   ]
  },
  {
   "cell_type": "code",
   "execution_count": 11,
   "id": "037cd7d3",
   "metadata": {},
   "outputs": [],
   "source": [
    "actor=actor.drop('last_update', axis=1)     #Elimino 'last_update'"
   ]
  },
  {
   "cell_type": "code",
   "execution_count": 12,
   "id": "a9bc1d74",
   "metadata": {},
   "outputs": [
    {
     "data": {
      "text/plain": [
       "(200, 3)"
      ]
     },
     "execution_count": 12,
     "metadata": {},
     "output_type": "execute_result"
    }
   ],
   "source": [
    "actor.shape"
   ]
  },
  {
   "cell_type": "code",
   "execution_count": 13,
   "id": "e4e1fecf",
   "metadata": {},
   "outputs": [
    {
     "name": "stdout",
     "output_type": "stream",
     "text": [
      "<class 'pandas.core.frame.DataFrame'>\n",
      "RangeIndex: 200 entries, 0 to 199\n",
      "Data columns (total 3 columns):\n",
      " #   Column      Non-Null Count  Dtype \n",
      "---  ------      --------------  ----- \n",
      " 0   actor_id    200 non-null    int64 \n",
      " 1   first_name  200 non-null    object\n",
      " 2   last_name   200 non-null    object\n",
      "dtypes: int64(1), object(2)\n",
      "memory usage: 26.2 KB\n"
     ]
    }
   ],
   "source": [
    "actor.info(memory_usage='deep')             #No hay nulos"
   ]
  },
  {
   "cell_type": "code",
   "execution_count": 14,
   "id": "ae22e9d6",
   "metadata": {},
   "outputs": [
    {
     "data": {
      "text/plain": [
       "False"
      ]
     },
     "execution_count": 14,
     "metadata": {},
     "output_type": "execute_result"
    }
   ],
   "source": [
    "actor.duplicated().any()"
   ]
  },
  {
   "cell_type": "markdown",
   "id": "a4c83c31",
   "metadata": {},
   "source": [
    "**No hay duplicados, porque estamos contando el ID al mirarlo.**"
   ]
  },
  {
   "cell_type": "markdown",
   "id": "8db31f76",
   "metadata": {},
   "source": [
    "**Probamos sin ID:**"
   ]
  },
  {
   "cell_type": "code",
   "execution_count": 15,
   "id": "41ae9b07",
   "metadata": {},
   "outputs": [],
   "source": [
    "act_dup=actor[['first_name', 'last_name']]"
   ]
  },
  {
   "cell_type": "code",
   "execution_count": 16,
   "id": "bc34282b",
   "metadata": {},
   "outputs": [
    {
     "data": {
      "text/plain": [
       "Int64Index([109], dtype='int64')"
      ]
     },
     "execution_count": 16,
     "metadata": {},
     "output_type": "execute_result"
    }
   ],
   "source": [
    "act_dup[act_dup.duplicated()].index"
   ]
  },
  {
   "cell_type": "code",
   "execution_count": 17,
   "id": "5e6943f0",
   "metadata": {},
   "outputs": [
    {
     "data": {
      "text/html": [
       "<div>\n",
       "<style scoped>\n",
       "    .dataframe tbody tr th:only-of-type {\n",
       "        vertical-align: middle;\n",
       "    }\n",
       "\n",
       "    .dataframe tbody tr th {\n",
       "        vertical-align: top;\n",
       "    }\n",
       "\n",
       "    .dataframe thead th {\n",
       "        text-align: right;\n",
       "    }\n",
       "</style>\n",
       "<table border=\"1\" class=\"dataframe\">\n",
       "  <thead>\n",
       "    <tr style=\"text-align: right;\">\n",
       "      <th></th>\n",
       "      <th>first_name</th>\n",
       "      <th>last_name</th>\n",
       "    </tr>\n",
       "  </thead>\n",
       "  <tbody>\n",
       "    <tr>\n",
       "      <th>100</th>\n",
       "      <td>SUSAN</td>\n",
       "      <td>DAVIS</td>\n",
       "    </tr>\n",
       "    <tr>\n",
       "      <th>109</th>\n",
       "      <td>SUSAN</td>\n",
       "      <td>DAVIS</td>\n",
       "    </tr>\n",
       "  </tbody>\n",
       "</table>\n",
       "</div>"
      ],
      "text/plain": [
       "    first_name last_name\n",
       "100      SUSAN     DAVIS\n",
       "109      SUSAN     DAVIS"
      ]
     },
     "execution_count": 17,
     "metadata": {},
     "output_type": "execute_result"
    }
   ],
   "source": [
    "act_dup[act_dup['first_name']=='SUSAN']"
   ]
  },
  {
   "cell_type": "markdown",
   "id": "8711c2ea",
   "metadata": {},
   "source": [
    "**Se puede observar que 'Susan Davis' esta duplicada, entonces elimino esa fila:**"
   ]
  },
  {
   "cell_type": "code",
   "execution_count": 18,
   "id": "e730c14e",
   "metadata": {},
   "outputs": [],
   "source": [
    "actor.drop(109, axis=0, inplace=True)"
   ]
  },
  {
   "cell_type": "code",
   "execution_count": 19,
   "id": "4103f1d0",
   "metadata": {},
   "outputs": [
    {
     "data": {
      "text/plain": [
       "(199, 3)"
      ]
     },
     "execution_count": 19,
     "metadata": {},
     "output_type": "execute_result"
    }
   ],
   "source": [
    "actor.shape"
   ]
  },
  {
   "cell_type": "markdown",
   "id": "e54c28cd",
   "metadata": {},
   "source": [
    "**Reasigno los valores de 'actor_id' y reseteo el índice:**"
   ]
  },
  {
   "cell_type": "code",
   "execution_count": 20,
   "id": "80ce55b1",
   "metadata": {},
   "outputs": [],
   "source": [
    "actor['actor_id']=range(1, len(actor)+1)\n",
    "actor.reset_index(drop=True, inplace=True)"
   ]
  },
  {
   "cell_type": "code",
   "execution_count": 21,
   "id": "28c4f876",
   "metadata": {},
   "outputs": [
    {
     "data": {
      "text/html": [
       "<div>\n",
       "<style scoped>\n",
       "    .dataframe tbody tr th:only-of-type {\n",
       "        vertical-align: middle;\n",
       "    }\n",
       "\n",
       "    .dataframe tbody tr th {\n",
       "        vertical-align: top;\n",
       "    }\n",
       "\n",
       "    .dataframe thead th {\n",
       "        text-align: right;\n",
       "    }\n",
       "</style>\n",
       "<table border=\"1\" class=\"dataframe\">\n",
       "  <thead>\n",
       "    <tr style=\"text-align: right;\">\n",
       "      <th></th>\n",
       "      <th>actor_id</th>\n",
       "      <th>first_name</th>\n",
       "      <th>last_name</th>\n",
       "    </tr>\n",
       "  </thead>\n",
       "  <tbody>\n",
       "    <tr>\n",
       "      <th>0</th>\n",
       "      <td>1</td>\n",
       "      <td>PENELOPE</td>\n",
       "      <td>GUINESS</td>\n",
       "    </tr>\n",
       "    <tr>\n",
       "      <th>1</th>\n",
       "      <td>2</td>\n",
       "      <td>NICK</td>\n",
       "      <td>WAHLBERG</td>\n",
       "    </tr>\n",
       "    <tr>\n",
       "      <th>2</th>\n",
       "      <td>3</td>\n",
       "      <td>ED</td>\n",
       "      <td>CHASE</td>\n",
       "    </tr>\n",
       "    <tr>\n",
       "      <th>3</th>\n",
       "      <td>4</td>\n",
       "      <td>JENNIFER</td>\n",
       "      <td>DAVIS</td>\n",
       "    </tr>\n",
       "    <tr>\n",
       "      <th>4</th>\n",
       "      <td>5</td>\n",
       "      <td>JOHNNY</td>\n",
       "      <td>LOLLOBRIGIDA</td>\n",
       "    </tr>\n",
       "    <tr>\n",
       "      <th>...</th>\n",
       "      <td>...</td>\n",
       "      <td>...</td>\n",
       "      <td>...</td>\n",
       "    </tr>\n",
       "    <tr>\n",
       "      <th>194</th>\n",
       "      <td>195</td>\n",
       "      <td>BELA</td>\n",
       "      <td>WALKEN</td>\n",
       "    </tr>\n",
       "    <tr>\n",
       "      <th>195</th>\n",
       "      <td>196</td>\n",
       "      <td>REESE</td>\n",
       "      <td>WEST</td>\n",
       "    </tr>\n",
       "    <tr>\n",
       "      <th>196</th>\n",
       "      <td>197</td>\n",
       "      <td>MARY</td>\n",
       "      <td>KEITEL</td>\n",
       "    </tr>\n",
       "    <tr>\n",
       "      <th>197</th>\n",
       "      <td>198</td>\n",
       "      <td>JULIA</td>\n",
       "      <td>FAWCETT</td>\n",
       "    </tr>\n",
       "    <tr>\n",
       "      <th>198</th>\n",
       "      <td>199</td>\n",
       "      <td>THORA</td>\n",
       "      <td>TEMPLE</td>\n",
       "    </tr>\n",
       "  </tbody>\n",
       "</table>\n",
       "<p>199 rows × 3 columns</p>\n",
       "</div>"
      ],
      "text/plain": [
       "     actor_id first_name     last_name\n",
       "0           1   PENELOPE       GUINESS\n",
       "1           2       NICK      WAHLBERG\n",
       "2           3         ED         CHASE\n",
       "3           4   JENNIFER         DAVIS\n",
       "4           5     JOHNNY  LOLLOBRIGIDA\n",
       "..        ...        ...           ...\n",
       "194       195       BELA        WALKEN\n",
       "195       196      REESE          WEST\n",
       "196       197       MARY        KEITEL\n",
       "197       198      JULIA       FAWCETT\n",
       "198       199      THORA        TEMPLE\n",
       "\n",
       "[199 rows x 3 columns]"
      ]
     },
     "execution_count": 21,
     "metadata": {},
     "output_type": "execute_result"
    }
   ],
   "source": [
    "#pd.set_option('display.max_rows', None)\n",
    "actor.head(200)"
   ]
  },
  {
   "cell_type": "code",
   "execution_count": 22,
   "id": "c2d8fe5b",
   "metadata": {},
   "outputs": [
    {
     "data": {
      "text/plain": [
       "(199, 3)"
      ]
     },
     "execution_count": 22,
     "metadata": {},
     "output_type": "execute_result"
    }
   ],
   "source": [
    "actor.shape"
   ]
  },
  {
   "cell_type": "markdown",
   "id": "c688b371",
   "metadata": {},
   "source": [
    "**Escribo todos los nombres en minúsculas para que sea más fácil en un futuro la búsqueda:**"
   ]
  },
  {
   "cell_type": "code",
   "execution_count": 23,
   "id": "b5eb75eb",
   "metadata": {},
   "outputs": [],
   "source": [
    "actor.first_name=actor.first_name.str.lower()\n",
    "actor.last_name=actor.last_name.str.lower()"
   ]
  },
  {
   "cell_type": "markdown",
   "id": "6348b0b2",
   "metadata": {},
   "source": [
    "**Creo una columna nueva con el nombre completo:**"
   ]
  },
  {
   "cell_type": "code",
   "execution_count": 24,
   "id": "1d25a759",
   "metadata": {},
   "outputs": [],
   "source": [
    "actor['complete_name'] = actor['first_name'].astype(str) + '_' + actor['last_name'].astype(str)"
   ]
  },
  {
   "cell_type": "code",
   "execution_count": 25,
   "id": "df0e893e",
   "metadata": {},
   "outputs": [
    {
     "data": {
      "text/plain": [
       "Index(['actor_id', 'first_name', 'last_name', 'complete_name'], dtype='object')"
      ]
     },
     "execution_count": 25,
     "metadata": {},
     "output_type": "execute_result"
    }
   ],
   "source": [
    "actor.columns"
   ]
  },
  {
   "cell_type": "code",
   "execution_count": 26,
   "id": "7b8ca276",
   "metadata": {},
   "outputs": [],
   "source": [
    "actor=actor[['actor_id', 'complete_name','first_name', 'last_name']]"
   ]
  },
  {
   "cell_type": "code",
   "execution_count": 27,
   "id": "70153dfd",
   "metadata": {},
   "outputs": [
    {
     "data": {
      "text/html": [
       "<div>\n",
       "<style scoped>\n",
       "    .dataframe tbody tr th:only-of-type {\n",
       "        vertical-align: middle;\n",
       "    }\n",
       "\n",
       "    .dataframe tbody tr th {\n",
       "        vertical-align: top;\n",
       "    }\n",
       "\n",
       "    .dataframe thead th {\n",
       "        text-align: right;\n",
       "    }\n",
       "</style>\n",
       "<table border=\"1\" class=\"dataframe\">\n",
       "  <thead>\n",
       "    <tr style=\"text-align: right;\">\n",
       "      <th></th>\n",
       "      <th>actor_id</th>\n",
       "      <th>complete_name</th>\n",
       "      <th>first_name</th>\n",
       "      <th>last_name</th>\n",
       "    </tr>\n",
       "  </thead>\n",
       "  <tbody>\n",
       "    <tr>\n",
       "      <th>0</th>\n",
       "      <td>1</td>\n",
       "      <td>penelope_guiness</td>\n",
       "      <td>penelope</td>\n",
       "      <td>guiness</td>\n",
       "    </tr>\n",
       "    <tr>\n",
       "      <th>1</th>\n",
       "      <td>2</td>\n",
       "      <td>nick_wahlberg</td>\n",
       "      <td>nick</td>\n",
       "      <td>wahlberg</td>\n",
       "    </tr>\n",
       "    <tr>\n",
       "      <th>2</th>\n",
       "      <td>3</td>\n",
       "      <td>ed_chase</td>\n",
       "      <td>ed</td>\n",
       "      <td>chase</td>\n",
       "    </tr>\n",
       "    <tr>\n",
       "      <th>3</th>\n",
       "      <td>4</td>\n",
       "      <td>jennifer_davis</td>\n",
       "      <td>jennifer</td>\n",
       "      <td>davis</td>\n",
       "    </tr>\n",
       "    <tr>\n",
       "      <th>4</th>\n",
       "      <td>5</td>\n",
       "      <td>johnny_lollobrigida</td>\n",
       "      <td>johnny</td>\n",
       "      <td>lollobrigida</td>\n",
       "    </tr>\n",
       "  </tbody>\n",
       "</table>\n",
       "</div>"
      ],
      "text/plain": [
       "   actor_id        complete_name first_name     last_name\n",
       "0         1     penelope_guiness   penelope       guiness\n",
       "1         2        nick_wahlberg       nick      wahlberg\n",
       "2         3             ed_chase         ed         chase\n",
       "3         4       jennifer_davis   jennifer         davis\n",
       "4         5  johnny_lollobrigida     johnny  lollobrigida"
      ]
     },
     "execution_count": 27,
     "metadata": {},
     "output_type": "execute_result"
    }
   ],
   "source": [
    "actor.head()"
   ]
  },
  {
   "cell_type": "markdown",
   "id": "f841b3e0",
   "metadata": {},
   "source": [
    "# Category CSV"
   ]
  },
  {
   "cell_type": "markdown",
   "id": "d99a08c1",
   "metadata": {},
   "source": [
    "**Analizo el número de filas y columnas del archivo y que hay en cada una:**"
   ]
  },
  {
   "cell_type": "code",
   "execution_count": 28,
   "id": "81687c5b",
   "metadata": {},
   "outputs": [
    {
     "data": {
      "text/plain": [
       "(16, 3)"
      ]
     },
     "execution_count": 28,
     "metadata": {},
     "output_type": "execute_result"
    }
   ],
   "source": [
    "categ.shape"
   ]
  },
  {
   "cell_type": "code",
   "execution_count": 29,
   "id": "ebe7db54",
   "metadata": {},
   "outputs": [
    {
     "data": {
      "text/html": [
       "<div>\n",
       "<style scoped>\n",
       "    .dataframe tbody tr th:only-of-type {\n",
       "        vertical-align: middle;\n",
       "    }\n",
       "\n",
       "    .dataframe tbody tr th {\n",
       "        vertical-align: top;\n",
       "    }\n",
       "\n",
       "    .dataframe thead th {\n",
       "        text-align: right;\n",
       "    }\n",
       "</style>\n",
       "<table border=\"1\" class=\"dataframe\">\n",
       "  <thead>\n",
       "    <tr style=\"text-align: right;\">\n",
       "      <th></th>\n",
       "      <th>category_id</th>\n",
       "      <th>name</th>\n",
       "      <th>last_update</th>\n",
       "    </tr>\n",
       "  </thead>\n",
       "  <tbody>\n",
       "    <tr>\n",
       "      <th>0</th>\n",
       "      <td>1</td>\n",
       "      <td>Action</td>\n",
       "      <td>2006-02-15 04:46:27</td>\n",
       "    </tr>\n",
       "    <tr>\n",
       "      <th>1</th>\n",
       "      <td>2</td>\n",
       "      <td>Animation</td>\n",
       "      <td>2006-02-15 04:46:27</td>\n",
       "    </tr>\n",
       "    <tr>\n",
       "      <th>2</th>\n",
       "      <td>3</td>\n",
       "      <td>Children</td>\n",
       "      <td>2006-02-15 04:46:27</td>\n",
       "    </tr>\n",
       "    <tr>\n",
       "      <th>3</th>\n",
       "      <td>4</td>\n",
       "      <td>Classics</td>\n",
       "      <td>2006-02-15 04:46:27</td>\n",
       "    </tr>\n",
       "    <tr>\n",
       "      <th>4</th>\n",
       "      <td>5</td>\n",
       "      <td>Comedy</td>\n",
       "      <td>2006-02-15 04:46:27</td>\n",
       "    </tr>\n",
       "    <tr>\n",
       "      <th>5</th>\n",
       "      <td>6</td>\n",
       "      <td>Documentary</td>\n",
       "      <td>2006-02-15 04:46:27</td>\n",
       "    </tr>\n",
       "    <tr>\n",
       "      <th>6</th>\n",
       "      <td>7</td>\n",
       "      <td>Drama</td>\n",
       "      <td>2006-02-15 04:46:27</td>\n",
       "    </tr>\n",
       "    <tr>\n",
       "      <th>7</th>\n",
       "      <td>8</td>\n",
       "      <td>Family</td>\n",
       "      <td>2006-02-15 04:46:27</td>\n",
       "    </tr>\n",
       "    <tr>\n",
       "      <th>8</th>\n",
       "      <td>9</td>\n",
       "      <td>Foreign</td>\n",
       "      <td>2006-02-15 04:46:27</td>\n",
       "    </tr>\n",
       "    <tr>\n",
       "      <th>9</th>\n",
       "      <td>10</td>\n",
       "      <td>Games</td>\n",
       "      <td>2006-02-15 04:46:27</td>\n",
       "    </tr>\n",
       "    <tr>\n",
       "      <th>10</th>\n",
       "      <td>11</td>\n",
       "      <td>Horror</td>\n",
       "      <td>2006-02-15 04:46:27</td>\n",
       "    </tr>\n",
       "    <tr>\n",
       "      <th>11</th>\n",
       "      <td>12</td>\n",
       "      <td>Music</td>\n",
       "      <td>2006-02-15 04:46:27</td>\n",
       "    </tr>\n",
       "    <tr>\n",
       "      <th>12</th>\n",
       "      <td>13</td>\n",
       "      <td>New</td>\n",
       "      <td>2006-02-15 04:46:27</td>\n",
       "    </tr>\n",
       "    <tr>\n",
       "      <th>13</th>\n",
       "      <td>14</td>\n",
       "      <td>Sci-Fi</td>\n",
       "      <td>2006-02-15 04:46:27</td>\n",
       "    </tr>\n",
       "    <tr>\n",
       "      <th>14</th>\n",
       "      <td>15</td>\n",
       "      <td>Sports</td>\n",
       "      <td>2006-02-15 04:46:27</td>\n",
       "    </tr>\n",
       "    <tr>\n",
       "      <th>15</th>\n",
       "      <td>16</td>\n",
       "      <td>Travel</td>\n",
       "      <td>2006-02-15 04:46:27</td>\n",
       "    </tr>\n",
       "  </tbody>\n",
       "</table>\n",
       "</div>"
      ],
      "text/plain": [
       "    category_id         name          last_update\n",
       "0             1       Action  2006-02-15 04:46:27\n",
       "1             2    Animation  2006-02-15 04:46:27\n",
       "2             3     Children  2006-02-15 04:46:27\n",
       "3             4     Classics  2006-02-15 04:46:27\n",
       "4             5       Comedy  2006-02-15 04:46:27\n",
       "5             6  Documentary  2006-02-15 04:46:27\n",
       "6             7        Drama  2006-02-15 04:46:27\n",
       "7             8       Family  2006-02-15 04:46:27\n",
       "8             9      Foreign  2006-02-15 04:46:27\n",
       "9            10        Games  2006-02-15 04:46:27\n",
       "10           11       Horror  2006-02-15 04:46:27\n",
       "11           12        Music  2006-02-15 04:46:27\n",
       "12           13          New  2006-02-15 04:46:27\n",
       "13           14       Sci-Fi  2006-02-15 04:46:27\n",
       "14           15       Sports  2006-02-15 04:46:27\n",
       "15           16       Travel  2006-02-15 04:46:27"
      ]
     },
     "execution_count": 29,
     "metadata": {},
     "output_type": "execute_result"
    }
   ],
   "source": [
    "#pd.set_option('display.max_rows', None)\n",
    "categ.head(16)"
   ]
  },
  {
   "cell_type": "code",
   "execution_count": 30,
   "id": "5d532893",
   "metadata": {},
   "outputs": [
    {
     "name": "stdout",
     "output_type": "stream",
     "text": [
      "<class 'pandas.core.frame.DataFrame'>\n",
      "RangeIndex: 16 entries, 0 to 15\n",
      "Data columns (total 3 columns):\n",
      " #   Column       Non-Null Count  Dtype \n",
      "---  ------       --------------  ----- \n",
      " 0   category_id  16 non-null     int64 \n",
      " 1   name         16 non-null     object\n",
      " 2   last_update  16 non-null     object\n",
      "dtypes: int64(1), object(2)\n",
      "memory usage: 2.4 KB\n"
     ]
    }
   ],
   "source": [
    "categ.info(memory_usage='deep')"
   ]
  },
  {
   "cell_type": "markdown",
   "id": "ca032917",
   "metadata": {},
   "source": [
    "**Veo en la query anterior que no hay nulos.**"
   ]
  },
  {
   "cell_type": "code",
   "execution_count": 31,
   "id": "2ef3c157",
   "metadata": {},
   "outputs": [
    {
     "data": {
      "text/plain": [
       "False"
      ]
     },
     "execution_count": 31,
     "metadata": {},
     "output_type": "execute_result"
    }
   ],
   "source": [
    "categ.duplicated().any()"
   ]
  },
  {
   "cell_type": "markdown",
   "id": "83884c95",
   "metadata": {},
   "source": [
    "**Tampoco hay duplicados.**"
   ]
  },
  {
   "cell_type": "code",
   "execution_count": 32,
   "id": "24bca03d",
   "metadata": {},
   "outputs": [],
   "source": [
    "categ=categ.drop('last_update', axis=1)"
   ]
  },
  {
   "cell_type": "markdown",
   "id": "30261088",
   "metadata": {},
   "source": [
    "**Elimino la columna 'last_update' porque todas sus filas son idénticas**"
   ]
  },
  {
   "cell_type": "code",
   "execution_count": 33,
   "id": "79268a6d",
   "metadata": {},
   "outputs": [
    {
     "data": {
      "text/plain": [
       "(16, 2)"
      ]
     },
     "execution_count": 33,
     "metadata": {},
     "output_type": "execute_result"
    }
   ],
   "source": [
    "categ.shape"
   ]
  },
  {
   "cell_type": "markdown",
   "id": "0c9a5e15",
   "metadata": {},
   "source": [
    "**Observo que ha sido eliminada la columna.**"
   ]
  },
  {
   "cell_type": "markdown",
   "id": "e937792f",
   "metadata": {},
   "source": [
    "**Renombro la columna 'name' porque en otras tablas hay columnas que también se llaman 'name' y tienen otro contenido distinto.**"
   ]
  },
  {
   "cell_type": "code",
   "execution_count": 34,
   "id": "5a5684dc",
   "metadata": {},
   "outputs": [],
   "source": [
    "categ.rename(columns={'name':'c_name'}, inplace=True)"
   ]
  },
  {
   "cell_type": "markdown",
   "id": "e2e2fe6b",
   "metadata": {},
   "source": [
    "**Transformo los valores de la columna 'c_name' en minúsculas:**"
   ]
  },
  {
   "cell_type": "code",
   "execution_count": 35,
   "id": "45d5c351",
   "metadata": {},
   "outputs": [],
   "source": [
    "categ.c_name=categ.c_name.str.lower()"
   ]
  },
  {
   "cell_type": "code",
   "execution_count": 36,
   "id": "f81212be",
   "metadata": {},
   "outputs": [
    {
     "data": {
      "text/html": [
       "<div>\n",
       "<style scoped>\n",
       "    .dataframe tbody tr th:only-of-type {\n",
       "        vertical-align: middle;\n",
       "    }\n",
       "\n",
       "    .dataframe tbody tr th {\n",
       "        vertical-align: top;\n",
       "    }\n",
       "\n",
       "    .dataframe thead th {\n",
       "        text-align: right;\n",
       "    }\n",
       "</style>\n",
       "<table border=\"1\" class=\"dataframe\">\n",
       "  <thead>\n",
       "    <tr style=\"text-align: right;\">\n",
       "      <th></th>\n",
       "      <th>category_id</th>\n",
       "      <th>c_name</th>\n",
       "    </tr>\n",
       "  </thead>\n",
       "  <tbody>\n",
       "    <tr>\n",
       "      <th>0</th>\n",
       "      <td>1</td>\n",
       "      <td>action</td>\n",
       "    </tr>\n",
       "    <tr>\n",
       "      <th>1</th>\n",
       "      <td>2</td>\n",
       "      <td>animation</td>\n",
       "    </tr>\n",
       "    <tr>\n",
       "      <th>2</th>\n",
       "      <td>3</td>\n",
       "      <td>children</td>\n",
       "    </tr>\n",
       "    <tr>\n",
       "      <th>3</th>\n",
       "      <td>4</td>\n",
       "      <td>classics</td>\n",
       "    </tr>\n",
       "    <tr>\n",
       "      <th>4</th>\n",
       "      <td>5</td>\n",
       "      <td>comedy</td>\n",
       "    </tr>\n",
       "  </tbody>\n",
       "</table>\n",
       "</div>"
      ],
      "text/plain": [
       "   category_id     c_name\n",
       "0            1     action\n",
       "1            2  animation\n",
       "2            3   children\n",
       "3            4   classics\n",
       "4            5     comedy"
      ]
     },
     "execution_count": 36,
     "metadata": {},
     "output_type": "execute_result"
    }
   ],
   "source": [
    "categ.head()"
   ]
  },
  {
   "cell_type": "markdown",
   "id": "7ae455a6",
   "metadata": {},
   "source": [
    "# Language CSV"
   ]
  },
  {
   "cell_type": "markdown",
   "id": "938e1c4e",
   "metadata": {},
   "source": [
    "**Analizo el número de filas y columnas del archivo y que hay en cada una:**"
   ]
  },
  {
   "cell_type": "code",
   "execution_count": 37,
   "id": "a2ad3f57",
   "metadata": {},
   "outputs": [
    {
     "data": {
      "text/plain": [
       "(6, 3)"
      ]
     },
     "execution_count": 37,
     "metadata": {},
     "output_type": "execute_result"
    }
   ],
   "source": [
    "lang.shape"
   ]
  },
  {
   "cell_type": "code",
   "execution_count": 38,
   "id": "535fe4dd",
   "metadata": {},
   "outputs": [
    {
     "data": {
      "text/html": [
       "<div>\n",
       "<style scoped>\n",
       "    .dataframe tbody tr th:only-of-type {\n",
       "        vertical-align: middle;\n",
       "    }\n",
       "\n",
       "    .dataframe tbody tr th {\n",
       "        vertical-align: top;\n",
       "    }\n",
       "\n",
       "    .dataframe thead th {\n",
       "        text-align: right;\n",
       "    }\n",
       "</style>\n",
       "<table border=\"1\" class=\"dataframe\">\n",
       "  <thead>\n",
       "    <tr style=\"text-align: right;\">\n",
       "      <th></th>\n",
       "      <th>language_id</th>\n",
       "      <th>name</th>\n",
       "      <th>last_update</th>\n",
       "    </tr>\n",
       "  </thead>\n",
       "  <tbody>\n",
       "    <tr>\n",
       "      <th>0</th>\n",
       "      <td>1</td>\n",
       "      <td>English</td>\n",
       "      <td>2006-02-15 05:02:19</td>\n",
       "    </tr>\n",
       "    <tr>\n",
       "      <th>1</th>\n",
       "      <td>2</td>\n",
       "      <td>Italian</td>\n",
       "      <td>2006-02-15 05:02:19</td>\n",
       "    </tr>\n",
       "    <tr>\n",
       "      <th>2</th>\n",
       "      <td>3</td>\n",
       "      <td>Japanese</td>\n",
       "      <td>2006-02-15 05:02:19</td>\n",
       "    </tr>\n",
       "    <tr>\n",
       "      <th>3</th>\n",
       "      <td>4</td>\n",
       "      <td>Mandarin</td>\n",
       "      <td>2006-02-15 05:02:19</td>\n",
       "    </tr>\n",
       "    <tr>\n",
       "      <th>4</th>\n",
       "      <td>5</td>\n",
       "      <td>French</td>\n",
       "      <td>2006-02-15 05:02:19</td>\n",
       "    </tr>\n",
       "    <tr>\n",
       "      <th>5</th>\n",
       "      <td>6</td>\n",
       "      <td>German</td>\n",
       "      <td>2006-02-15 05:02:19</td>\n",
       "    </tr>\n",
       "  </tbody>\n",
       "</table>\n",
       "</div>"
      ],
      "text/plain": [
       "   language_id      name          last_update\n",
       "0            1   English  2006-02-15 05:02:19\n",
       "1            2   Italian  2006-02-15 05:02:19\n",
       "2            3  Japanese  2006-02-15 05:02:19\n",
       "3            4  Mandarin  2006-02-15 05:02:19\n",
       "4            5    French  2006-02-15 05:02:19\n",
       "5            6    German  2006-02-15 05:02:19"
      ]
     },
     "execution_count": 38,
     "metadata": {},
     "output_type": "execute_result"
    }
   ],
   "source": [
    "lang.head(6)"
   ]
  },
  {
   "cell_type": "markdown",
   "id": "ef1b62f3",
   "metadata": {},
   "source": [
    "**Elimino también en esta tabla la columna 'last_update' porque son idénticas sus filas.**"
   ]
  },
  {
   "cell_type": "code",
   "execution_count": 39,
   "id": "c7fa10fb",
   "metadata": {},
   "outputs": [],
   "source": [
    "lang=lang.drop('last_update', axis=1)"
   ]
  },
  {
   "cell_type": "markdown",
   "id": "405197ec",
   "metadata": {},
   "source": [
    "**Renombro la columna 'name' porque en otras tablas hay columnas que también se llaman 'name' y tienen otro contenido distinto.**"
   ]
  },
  {
   "cell_type": "code",
   "execution_count": 40,
   "id": "3c11dd6d",
   "metadata": {},
   "outputs": [],
   "source": [
    "lang.rename(columns={'name':'l_name'}, inplace=True)"
   ]
  },
  {
   "cell_type": "code",
   "execution_count": 41,
   "id": "22d6f0e9",
   "metadata": {},
   "outputs": [],
   "source": [
    "lang.l_name=lang.l_name.str.lower()"
   ]
  },
  {
   "cell_type": "code",
   "execution_count": 42,
   "id": "c26705c1",
   "metadata": {},
   "outputs": [
    {
     "data": {
      "text/html": [
       "<div>\n",
       "<style scoped>\n",
       "    .dataframe tbody tr th:only-of-type {\n",
       "        vertical-align: middle;\n",
       "    }\n",
       "\n",
       "    .dataframe tbody tr th {\n",
       "        vertical-align: top;\n",
       "    }\n",
       "\n",
       "    .dataframe thead th {\n",
       "        text-align: right;\n",
       "    }\n",
       "</style>\n",
       "<table border=\"1\" class=\"dataframe\">\n",
       "  <thead>\n",
       "    <tr style=\"text-align: right;\">\n",
       "      <th></th>\n",
       "      <th>language_id</th>\n",
       "      <th>l_name</th>\n",
       "    </tr>\n",
       "  </thead>\n",
       "  <tbody>\n",
       "    <tr>\n",
       "      <th>0</th>\n",
       "      <td>1</td>\n",
       "      <td>english</td>\n",
       "    </tr>\n",
       "    <tr>\n",
       "      <th>1</th>\n",
       "      <td>2</td>\n",
       "      <td>italian</td>\n",
       "    </tr>\n",
       "    <tr>\n",
       "      <th>2</th>\n",
       "      <td>3</td>\n",
       "      <td>japanese</td>\n",
       "    </tr>\n",
       "    <tr>\n",
       "      <th>3</th>\n",
       "      <td>4</td>\n",
       "      <td>mandarin</td>\n",
       "    </tr>\n",
       "    <tr>\n",
       "      <th>4</th>\n",
       "      <td>5</td>\n",
       "      <td>french</td>\n",
       "    </tr>\n",
       "  </tbody>\n",
       "</table>\n",
       "</div>"
      ],
      "text/plain": [
       "   language_id    l_name\n",
       "0            1   english\n",
       "1            2   italian\n",
       "2            3  japanese\n",
       "3            4  mandarin\n",
       "4            5    french"
      ]
     },
     "execution_count": 42,
     "metadata": {},
     "output_type": "execute_result"
    }
   ],
   "source": [
    "lang.head()"
   ]
  },
  {
   "cell_type": "code",
   "execution_count": 43,
   "id": "bfaa5405",
   "metadata": {},
   "outputs": [
    {
     "data": {
      "text/plain": [
       "(6, 2)"
      ]
     },
     "execution_count": 43,
     "metadata": {},
     "output_type": "execute_result"
    }
   ],
   "source": [
    "lang.shape"
   ]
  },
  {
   "cell_type": "markdown",
   "id": "4ca4f957",
   "metadata": {},
   "source": [
    "# Inventory CSV"
   ]
  },
  {
   "cell_type": "markdown",
   "id": "83d64d11",
   "metadata": {},
   "source": [
    "**Analizo el número de filas y columnas del archivo y que hay en cada una:**"
   ]
  },
  {
   "cell_type": "code",
   "execution_count": 44,
   "id": "630794b5",
   "metadata": {},
   "outputs": [
    {
     "data": {
      "text/plain": [
       "(1000, 4)"
      ]
     },
     "execution_count": 44,
     "metadata": {},
     "output_type": "execute_result"
    }
   ],
   "source": [
    "inven.shape"
   ]
  },
  {
   "cell_type": "code",
   "execution_count": 45,
   "id": "43eeb4a7",
   "metadata": {},
   "outputs": [
    {
     "data": {
      "text/html": [
       "<div>\n",
       "<style scoped>\n",
       "    .dataframe tbody tr th:only-of-type {\n",
       "        vertical-align: middle;\n",
       "    }\n",
       "\n",
       "    .dataframe tbody tr th {\n",
       "        vertical-align: top;\n",
       "    }\n",
       "\n",
       "    .dataframe thead th {\n",
       "        text-align: right;\n",
       "    }\n",
       "</style>\n",
       "<table border=\"1\" class=\"dataframe\">\n",
       "  <thead>\n",
       "    <tr style=\"text-align: right;\">\n",
       "      <th></th>\n",
       "      <th>inventory_id</th>\n",
       "      <th>film_id</th>\n",
       "      <th>store_id</th>\n",
       "      <th>last_update</th>\n",
       "    </tr>\n",
       "  </thead>\n",
       "  <tbody>\n",
       "    <tr>\n",
       "      <th>0</th>\n",
       "      <td>1</td>\n",
       "      <td>1</td>\n",
       "      <td>1</td>\n",
       "      <td>2006-02-15 05:09:17</td>\n",
       "    </tr>\n",
       "    <tr>\n",
       "      <th>1</th>\n",
       "      <td>2</td>\n",
       "      <td>1</td>\n",
       "      <td>1</td>\n",
       "      <td>2006-02-15 05:09:17</td>\n",
       "    </tr>\n",
       "    <tr>\n",
       "      <th>2</th>\n",
       "      <td>3</td>\n",
       "      <td>1</td>\n",
       "      <td>1</td>\n",
       "      <td>2006-02-15 05:09:17</td>\n",
       "    </tr>\n",
       "    <tr>\n",
       "      <th>3</th>\n",
       "      <td>4</td>\n",
       "      <td>1</td>\n",
       "      <td>1</td>\n",
       "      <td>2006-02-15 05:09:17</td>\n",
       "    </tr>\n",
       "    <tr>\n",
       "      <th>4</th>\n",
       "      <td>5</td>\n",
       "      <td>1</td>\n",
       "      <td>2</td>\n",
       "      <td>2006-02-15 05:09:17</td>\n",
       "    </tr>\n",
       "    <tr>\n",
       "      <th>...</th>\n",
       "      <td>...</td>\n",
       "      <td>...</td>\n",
       "      <td>...</td>\n",
       "      <td>...</td>\n",
       "    </tr>\n",
       "    <tr>\n",
       "      <th>995</th>\n",
       "      <td>996</td>\n",
       "      <td>222</td>\n",
       "      <td>2</td>\n",
       "      <td>2006-02-15 05:09:17</td>\n",
       "    </tr>\n",
       "    <tr>\n",
       "      <th>996</th>\n",
       "      <td>997</td>\n",
       "      <td>222</td>\n",
       "      <td>2</td>\n",
       "      <td>2006-02-15 05:09:17</td>\n",
       "    </tr>\n",
       "    <tr>\n",
       "      <th>997</th>\n",
       "      <td>998</td>\n",
       "      <td>222</td>\n",
       "      <td>2</td>\n",
       "      <td>2006-02-15 05:09:17</td>\n",
       "    </tr>\n",
       "    <tr>\n",
       "      <th>998</th>\n",
       "      <td>999</td>\n",
       "      <td>223</td>\n",
       "      <td>2</td>\n",
       "      <td>2006-02-15 05:09:17</td>\n",
       "    </tr>\n",
       "    <tr>\n",
       "      <th>999</th>\n",
       "      <td>1000</td>\n",
       "      <td>223</td>\n",
       "      <td>2</td>\n",
       "      <td>2006-02-15 05:09:17</td>\n",
       "    </tr>\n",
       "  </tbody>\n",
       "</table>\n",
       "<p>1000 rows × 4 columns</p>\n",
       "</div>"
      ],
      "text/plain": [
       "     inventory_id  film_id  store_id          last_update\n",
       "0               1        1         1  2006-02-15 05:09:17\n",
       "1               2        1         1  2006-02-15 05:09:17\n",
       "2               3        1         1  2006-02-15 05:09:17\n",
       "3               4        1         1  2006-02-15 05:09:17\n",
       "4               5        1         2  2006-02-15 05:09:17\n",
       "..            ...      ...       ...                  ...\n",
       "995           996      222         2  2006-02-15 05:09:17\n",
       "996           997      222         2  2006-02-15 05:09:17\n",
       "997           998      222         2  2006-02-15 05:09:17\n",
       "998           999      223         2  2006-02-15 05:09:17\n",
       "999          1000      223         2  2006-02-15 05:09:17\n",
       "\n",
       "[1000 rows x 4 columns]"
      ]
     },
     "execution_count": 45,
     "metadata": {},
     "output_type": "execute_result"
    }
   ],
   "source": [
    "inven.head(1000)"
   ]
  },
  {
   "cell_type": "markdown",
   "id": "88e4b347",
   "metadata": {},
   "source": [
    "**Elimino la columna 'last_update' porque todas sus filas son idénticas:**"
   ]
  },
  {
   "cell_type": "code",
   "execution_count": 46,
   "id": "01900fe5",
   "metadata": {},
   "outputs": [],
   "source": [
    "inven=inven.drop('last_update', axis=1)"
   ]
  },
  {
   "cell_type": "markdown",
   "id": "881425bd",
   "metadata": {},
   "source": [
    "**Compruebo que ha sido eliminada la columna:**"
   ]
  },
  {
   "cell_type": "code",
   "execution_count": 47,
   "id": "ddf4e0a4",
   "metadata": {},
   "outputs": [
    {
     "data": {
      "text/plain": [
       "(1000, 3)"
      ]
     },
     "execution_count": 47,
     "metadata": {},
     "output_type": "execute_result"
    }
   ],
   "source": [
    "inven.shape"
   ]
  },
  {
   "cell_type": "markdown",
   "id": "264b338d",
   "metadata": {},
   "source": [
    "# Old_HDD CSV"
   ]
  },
  {
   "cell_type": "markdown",
   "id": "5ae5c177",
   "metadata": {},
   "source": [
    "**Analizo el número de filas y columnas del archivo y que hay en cada una:**"
   ]
  },
  {
   "cell_type": "code",
   "execution_count": 48,
   "id": "6500ac1f",
   "metadata": {},
   "outputs": [
    {
     "data": {
      "text/plain": [
       "(1000, 5)"
      ]
     },
     "execution_count": 48,
     "metadata": {},
     "output_type": "execute_result"
    }
   ],
   "source": [
    "old.shape"
   ]
  },
  {
   "cell_type": "code",
   "execution_count": 49,
   "id": "efc250a5",
   "metadata": {},
   "outputs": [
    {
     "data": {
      "text/html": [
       "<div>\n",
       "<style scoped>\n",
       "    .dataframe tbody tr th:only-of-type {\n",
       "        vertical-align: middle;\n",
       "    }\n",
       "\n",
       "    .dataframe tbody tr th {\n",
       "        vertical-align: top;\n",
       "    }\n",
       "\n",
       "    .dataframe thead th {\n",
       "        text-align: right;\n",
       "    }\n",
       "</style>\n",
       "<table border=\"1\" class=\"dataframe\">\n",
       "  <thead>\n",
       "    <tr style=\"text-align: right;\">\n",
       "      <th></th>\n",
       "      <th>first_name</th>\n",
       "      <th>last_name</th>\n",
       "      <th>title</th>\n",
       "      <th>release_year</th>\n",
       "      <th>category_id</th>\n",
       "    </tr>\n",
       "  </thead>\n",
       "  <tbody>\n",
       "    <tr>\n",
       "      <th>0</th>\n",
       "      <td>PENELOPE</td>\n",
       "      <td>GUINESS</td>\n",
       "      <td>ACADEMY DINOSAUR</td>\n",
       "      <td>2006</td>\n",
       "      <td>6</td>\n",
       "    </tr>\n",
       "    <tr>\n",
       "      <th>1</th>\n",
       "      <td>PENELOPE</td>\n",
       "      <td>GUINESS</td>\n",
       "      <td>ANACONDA CONFESSIONS</td>\n",
       "      <td>2006</td>\n",
       "      <td>2</td>\n",
       "    </tr>\n",
       "    <tr>\n",
       "      <th>2</th>\n",
       "      <td>PENELOPE</td>\n",
       "      <td>GUINESS</td>\n",
       "      <td>ANGELS LIFE</td>\n",
       "      <td>2006</td>\n",
       "      <td>13</td>\n",
       "    </tr>\n",
       "    <tr>\n",
       "      <th>3</th>\n",
       "      <td>PENELOPE</td>\n",
       "      <td>GUINESS</td>\n",
       "      <td>BULWORTH COMMANDMENTS</td>\n",
       "      <td>2006</td>\n",
       "      <td>10</td>\n",
       "    </tr>\n",
       "    <tr>\n",
       "      <th>4</th>\n",
       "      <td>PENELOPE</td>\n",
       "      <td>GUINESS</td>\n",
       "      <td>CHEAPER CLYDE</td>\n",
       "      <td>2006</td>\n",
       "      <td>14</td>\n",
       "    </tr>\n",
       "  </tbody>\n",
       "</table>\n",
       "</div>"
      ],
      "text/plain": [
       "  first_name last_name                  title  release_year  category_id\n",
       "0   PENELOPE   GUINESS       ACADEMY DINOSAUR          2006            6\n",
       "1   PENELOPE   GUINESS   ANACONDA CONFESSIONS          2006            2\n",
       "2   PENELOPE   GUINESS            ANGELS LIFE          2006           13\n",
       "3   PENELOPE   GUINESS  BULWORTH COMMANDMENTS          2006           10\n",
       "4   PENELOPE   GUINESS          CHEAPER CLYDE          2006           14"
      ]
     },
     "execution_count": 49,
     "metadata": {},
     "output_type": "execute_result"
    }
   ],
   "source": [
    "old.head()"
   ]
  },
  {
   "cell_type": "markdown",
   "id": "906fd942",
   "metadata": {},
   "source": [
    "**Observo a ver si hay duplicados:**"
   ]
  },
  {
   "cell_type": "code",
   "execution_count": 50,
   "id": "79b82644",
   "metadata": {},
   "outputs": [
    {
     "data": {
      "text/plain": [
       "False"
      ]
     },
     "execution_count": 50,
     "metadata": {},
     "output_type": "execute_result"
    }
   ],
   "source": [
    "old.duplicated().any()"
   ]
  },
  {
   "cell_type": "markdown",
   "id": "93e68bbf",
   "metadata": {},
   "source": [
    "**No hay duplicados.**"
   ]
  },
  {
   "cell_type": "markdown",
   "id": "4d5bf2e9",
   "metadata": {},
   "source": [
    "**Reviso los valores únicos de cada columna (sustituyendo en la query siguiente 'release_year' por el nombre de cada columna):**"
   ]
  },
  {
   "cell_type": "code",
   "execution_count": 51,
   "id": "0c6f6926",
   "metadata": {},
   "outputs": [
    {
     "data": {
      "text/plain": [
       "array([2006], dtype=int64)"
      ]
     },
     "execution_count": 51,
     "metadata": {},
     "output_type": "execute_result"
    }
   ],
   "source": [
    "old.release_year.unique()                                                     "
   ]
  },
  {
   "cell_type": "markdown",
   "id": "67df4400",
   "metadata": {},
   "source": [
    "**Elimino la columna release_year porque están rellenas todas las filas con el único valores idénticos(2006):**"
   ]
  },
  {
   "cell_type": "code",
   "execution_count": 52,
   "id": "e07d9ed8",
   "metadata": {},
   "outputs": [],
   "source": [
    "old=old.drop('release_year', axis=1)"
   ]
  },
  {
   "cell_type": "markdown",
   "id": "07b70a73",
   "metadata": {},
   "source": [
    "**Creo un índice para esta tabla porque todas las demás tienen y he decidido dejarlo:**"
   ]
  },
  {
   "cell_type": "code",
   "execution_count": 53,
   "id": "4f423b14",
   "metadata": {},
   "outputs": [],
   "source": [
    "old['old_id']=range(1, len(old)+1)"
   ]
  },
  {
   "cell_type": "markdown",
   "id": "c1ed4c27",
   "metadata": {},
   "source": [
    "**Convierto las columnas 'first_name', 'last_name' y 'title' en minúsculas:**"
   ]
  },
  {
   "cell_type": "code",
   "execution_count": 54,
   "id": "4bd8f7c8",
   "metadata": {},
   "outputs": [],
   "source": [
    "old.first_name=old.first_name.str.lower()"
   ]
  },
  {
   "cell_type": "code",
   "execution_count": 55,
   "id": "fd49d9e7",
   "metadata": {},
   "outputs": [],
   "source": [
    "old.last_name=old.last_name.str.lower()"
   ]
  },
  {
   "cell_type": "code",
   "execution_count": 56,
   "id": "facb88fa",
   "metadata": {},
   "outputs": [],
   "source": [
    "old.title=old.title.str.lower()"
   ]
  },
  {
   "cell_type": "markdown",
   "id": "89176847",
   "metadata": {},
   "source": [
    "**Creo una columna nueva con el nombre completo:**"
   ]
  },
  {
   "cell_type": "code",
   "execution_count": 57,
   "id": "1a3afdb8",
   "metadata": {},
   "outputs": [],
   "source": [
    "old['complete_name']=old.first_name+'_'+old.last_name"
   ]
  },
  {
   "cell_type": "code",
   "execution_count": 58,
   "id": "a0c040c3",
   "metadata": {},
   "outputs": [
    {
     "data": {
      "text/plain": [
       "(1000, 6)"
      ]
     },
     "execution_count": 58,
     "metadata": {},
     "output_type": "execute_result"
    }
   ],
   "source": [
    "old.shape"
   ]
  },
  {
   "cell_type": "code",
   "execution_count": 59,
   "id": "0435c79b",
   "metadata": {},
   "outputs": [
    {
     "data": {
      "text/plain": [
       "Index(['first_name', 'last_name', 'title', 'category_id', 'old_id',\n",
       "       'complete_name'],\n",
       "      dtype='object')"
      ]
     },
     "execution_count": 59,
     "metadata": {},
     "output_type": "execute_result"
    }
   ],
   "source": [
    "old.columns"
   ]
  },
  {
   "cell_type": "code",
   "execution_count": 60,
   "id": "f0bb2e18",
   "metadata": {},
   "outputs": [],
   "source": [
    "old=old[['complete_name','first_name', 'last_name', 'title', 'category_id', 'old_id']]"
   ]
  },
  {
   "cell_type": "markdown",
   "id": "c581f1ef",
   "metadata": {},
   "source": [
    "**Hago merge de la columna 'complete_name' para en Mysql poder hacer la relación.**"
   ]
  },
  {
   "cell_type": "code",
   "execution_count": 61,
   "id": "4ddfb67a",
   "metadata": {},
   "outputs": [
    {
     "data": {
      "text/html": [
       "<div>\n",
       "<style scoped>\n",
       "    .dataframe tbody tr th:only-of-type {\n",
       "        vertical-align: middle;\n",
       "    }\n",
       "\n",
       "    .dataframe tbody tr th {\n",
       "        vertical-align: top;\n",
       "    }\n",
       "\n",
       "    .dataframe thead th {\n",
       "        text-align: right;\n",
       "    }\n",
       "</style>\n",
       "<table border=\"1\" class=\"dataframe\">\n",
       "  <thead>\n",
       "    <tr style=\"text-align: right;\">\n",
       "      <th></th>\n",
       "      <th>complete_name</th>\n",
       "      <th>first_name</th>\n",
       "      <th>last_name</th>\n",
       "      <th>title</th>\n",
       "      <th>category_id</th>\n",
       "      <th>old_id</th>\n",
       "      <th>actor_id</th>\n",
       "    </tr>\n",
       "  </thead>\n",
       "  <tbody>\n",
       "    <tr>\n",
       "      <th>0</th>\n",
       "      <td>penelope_guiness</td>\n",
       "      <td>penelope</td>\n",
       "      <td>guiness</td>\n",
       "      <td>academy dinosaur</td>\n",
       "      <td>6</td>\n",
       "      <td>1</td>\n",
       "      <td>1</td>\n",
       "    </tr>\n",
       "    <tr>\n",
       "      <th>1</th>\n",
       "      <td>penelope_guiness</td>\n",
       "      <td>penelope</td>\n",
       "      <td>guiness</td>\n",
       "      <td>anaconda confessions</td>\n",
       "      <td>2</td>\n",
       "      <td>2</td>\n",
       "      <td>1</td>\n",
       "    </tr>\n",
       "    <tr>\n",
       "      <th>2</th>\n",
       "      <td>penelope_guiness</td>\n",
       "      <td>penelope</td>\n",
       "      <td>guiness</td>\n",
       "      <td>angels life</td>\n",
       "      <td>13</td>\n",
       "      <td>3</td>\n",
       "      <td>1</td>\n",
       "    </tr>\n",
       "    <tr>\n",
       "      <th>3</th>\n",
       "      <td>penelope_guiness</td>\n",
       "      <td>penelope</td>\n",
       "      <td>guiness</td>\n",
       "      <td>bulworth commandments</td>\n",
       "      <td>10</td>\n",
       "      <td>4</td>\n",
       "      <td>1</td>\n",
       "    </tr>\n",
       "    <tr>\n",
       "      <th>4</th>\n",
       "      <td>penelope_guiness</td>\n",
       "      <td>penelope</td>\n",
       "      <td>guiness</td>\n",
       "      <td>cheaper clyde</td>\n",
       "      <td>14</td>\n",
       "      <td>5</td>\n",
       "      <td>1</td>\n",
       "    </tr>\n",
       "  </tbody>\n",
       "</table>\n",
       "</div>"
      ],
      "text/plain": [
       "      complete_name first_name last_name                  title  category_id  \\\n",
       "0  penelope_guiness   penelope   guiness       academy dinosaur            6   \n",
       "1  penelope_guiness   penelope   guiness   anaconda confessions            2   \n",
       "2  penelope_guiness   penelope   guiness            angels life           13   \n",
       "3  penelope_guiness   penelope   guiness  bulworth commandments           10   \n",
       "4  penelope_guiness   penelope   guiness          cheaper clyde           14   \n",
       "\n",
       "   old_id  actor_id  \n",
       "0       1         1  \n",
       "1       2         1  \n",
       "2       3         1  \n",
       "3       4         1  \n",
       "4       5         1  "
      ]
     },
     "execution_count": 61,
     "metadata": {},
     "output_type": "execute_result"
    }
   ],
   "source": [
    "old = old.merge(actor[['complete_name', 'actor_id']], on='complete_name', how='left')\n",
    "\n",
    "old.head()"
   ]
  },
  {
   "cell_type": "markdown",
   "id": "905205b0",
   "metadata": {},
   "source": [
    "**Elimino las columnas 'complete_name', 'first_name' y 'last_name' porque si quiero esa información la podré obtener al relacionarlas con la tabla 'actor:'**"
   ]
  },
  {
   "cell_type": "code",
   "execution_count": 62,
   "id": "e5ab6c82",
   "metadata": {},
   "outputs": [],
   "source": [
    "old=old.drop('complete_name', axis=1)\n",
    "old=old.drop('first_name', axis=1)\n",
    "old=old.drop('last_name',axis=1)"
   ]
  },
  {
   "cell_type": "code",
   "execution_count": 63,
   "id": "60e275d0",
   "metadata": {},
   "outputs": [
    {
     "data": {
      "text/html": [
       "<div>\n",
       "<style scoped>\n",
       "    .dataframe tbody tr th:only-of-type {\n",
       "        vertical-align: middle;\n",
       "    }\n",
       "\n",
       "    .dataframe tbody tr th {\n",
       "        vertical-align: top;\n",
       "    }\n",
       "\n",
       "    .dataframe thead th {\n",
       "        text-align: right;\n",
       "    }\n",
       "</style>\n",
       "<table border=\"1\" class=\"dataframe\">\n",
       "  <thead>\n",
       "    <tr style=\"text-align: right;\">\n",
       "      <th></th>\n",
       "      <th>title</th>\n",
       "      <th>category_id</th>\n",
       "      <th>old_id</th>\n",
       "      <th>actor_id</th>\n",
       "    </tr>\n",
       "  </thead>\n",
       "  <tbody>\n",
       "    <tr>\n",
       "      <th>0</th>\n",
       "      <td>academy dinosaur</td>\n",
       "      <td>6</td>\n",
       "      <td>1</td>\n",
       "      <td>1</td>\n",
       "    </tr>\n",
       "    <tr>\n",
       "      <th>1</th>\n",
       "      <td>anaconda confessions</td>\n",
       "      <td>2</td>\n",
       "      <td>2</td>\n",
       "      <td>1</td>\n",
       "    </tr>\n",
       "    <tr>\n",
       "      <th>2</th>\n",
       "      <td>angels life</td>\n",
       "      <td>13</td>\n",
       "      <td>3</td>\n",
       "      <td>1</td>\n",
       "    </tr>\n",
       "    <tr>\n",
       "      <th>3</th>\n",
       "      <td>bulworth commandments</td>\n",
       "      <td>10</td>\n",
       "      <td>4</td>\n",
       "      <td>1</td>\n",
       "    </tr>\n",
       "    <tr>\n",
       "      <th>4</th>\n",
       "      <td>cheaper clyde</td>\n",
       "      <td>14</td>\n",
       "      <td>5</td>\n",
       "      <td>1</td>\n",
       "    </tr>\n",
       "  </tbody>\n",
       "</table>\n",
       "</div>"
      ],
      "text/plain": [
       "                   title  category_id  old_id  actor_id\n",
       "0       academy dinosaur            6       1         1\n",
       "1   anaconda confessions            2       2         1\n",
       "2            angels life           13       3         1\n",
       "3  bulworth commandments           10       4         1\n",
       "4          cheaper clyde           14       5         1"
      ]
     },
     "execution_count": 63,
     "metadata": {},
     "output_type": "execute_result"
    }
   ],
   "source": [
    "old.head()"
   ]
  },
  {
   "cell_type": "markdown",
   "id": "26c2398c",
   "metadata": {},
   "source": [
    "# Rental CSV"
   ]
  },
  {
   "cell_type": "markdown",
   "id": "231d3a9e",
   "metadata": {},
   "source": [
    "**Analizo el número de filas y columnas del archivo y que hay en cada una:**"
   ]
  },
  {
   "cell_type": "code",
   "execution_count": 64,
   "id": "b42a6dcb",
   "metadata": {},
   "outputs": [
    {
     "data": {
      "text/plain": [
       "(1000, 7)"
      ]
     },
     "execution_count": 64,
     "metadata": {},
     "output_type": "execute_result"
    }
   ],
   "source": [
    "rent.shape"
   ]
  },
  {
   "cell_type": "code",
   "execution_count": 65,
   "id": "2fed0117",
   "metadata": {},
   "outputs": [
    {
     "data": {
      "text/html": [
       "<div>\n",
       "<style scoped>\n",
       "    .dataframe tbody tr th:only-of-type {\n",
       "        vertical-align: middle;\n",
       "    }\n",
       "\n",
       "    .dataframe tbody tr th {\n",
       "        vertical-align: top;\n",
       "    }\n",
       "\n",
       "    .dataframe thead th {\n",
       "        text-align: right;\n",
       "    }\n",
       "</style>\n",
       "<table border=\"1\" class=\"dataframe\">\n",
       "  <thead>\n",
       "    <tr style=\"text-align: right;\">\n",
       "      <th></th>\n",
       "      <th>rental_id</th>\n",
       "      <th>rental_date</th>\n",
       "      <th>inventory_id</th>\n",
       "      <th>customer_id</th>\n",
       "      <th>return_date</th>\n",
       "      <th>staff_id</th>\n",
       "      <th>last_update</th>\n",
       "    </tr>\n",
       "  </thead>\n",
       "  <tbody>\n",
       "    <tr>\n",
       "      <th>0</th>\n",
       "      <td>1</td>\n",
       "      <td>2005-05-24 22:53:30</td>\n",
       "      <td>367</td>\n",
       "      <td>130</td>\n",
       "      <td>2005-05-26 22:04:30</td>\n",
       "      <td>1</td>\n",
       "      <td>2006-02-15 21:30:53</td>\n",
       "    </tr>\n",
       "    <tr>\n",
       "      <th>1</th>\n",
       "      <td>2</td>\n",
       "      <td>2005-05-24 22:54:33</td>\n",
       "      <td>1525</td>\n",
       "      <td>459</td>\n",
       "      <td>2005-05-28 19:40:33</td>\n",
       "      <td>1</td>\n",
       "      <td>2006-02-15 21:30:53</td>\n",
       "    </tr>\n",
       "    <tr>\n",
       "      <th>2</th>\n",
       "      <td>3</td>\n",
       "      <td>2005-05-24 23:03:39</td>\n",
       "      <td>1711</td>\n",
       "      <td>408</td>\n",
       "      <td>2005-06-01 22:12:39</td>\n",
       "      <td>1</td>\n",
       "      <td>2006-02-15 21:30:53</td>\n",
       "    </tr>\n",
       "    <tr>\n",
       "      <th>3</th>\n",
       "      <td>4</td>\n",
       "      <td>2005-05-24 23:04:41</td>\n",
       "      <td>2452</td>\n",
       "      <td>333</td>\n",
       "      <td>2005-06-03 01:43:41</td>\n",
       "      <td>2</td>\n",
       "      <td>2006-02-15 21:30:53</td>\n",
       "    </tr>\n",
       "    <tr>\n",
       "      <th>4</th>\n",
       "      <td>5</td>\n",
       "      <td>2005-05-24 23:05:21</td>\n",
       "      <td>2079</td>\n",
       "      <td>222</td>\n",
       "      <td>2005-06-02 04:33:21</td>\n",
       "      <td>1</td>\n",
       "      <td>2006-02-15 21:30:53</td>\n",
       "    </tr>\n",
       "  </tbody>\n",
       "</table>\n",
       "</div>"
      ],
      "text/plain": [
       "   rental_id          rental_date  inventory_id  customer_id  \\\n",
       "0          1  2005-05-24 22:53:30           367          130   \n",
       "1          2  2005-05-24 22:54:33          1525          459   \n",
       "2          3  2005-05-24 23:03:39          1711          408   \n",
       "3          4  2005-05-24 23:04:41          2452          333   \n",
       "4          5  2005-05-24 23:05:21          2079          222   \n",
       "\n",
       "           return_date  staff_id          last_update  \n",
       "0  2005-05-26 22:04:30         1  2006-02-15 21:30:53  \n",
       "1  2005-05-28 19:40:33         1  2006-02-15 21:30:53  \n",
       "2  2005-06-01 22:12:39         1  2006-02-15 21:30:53  \n",
       "3  2005-06-03 01:43:41         2  2006-02-15 21:30:53  \n",
       "4  2005-06-02 04:33:21         1  2006-02-15 21:30:53  "
      ]
     },
     "execution_count": 65,
     "metadata": {},
     "output_type": "execute_result"
    }
   ],
   "source": [
    "rent.head()"
   ]
  },
  {
   "cell_type": "markdown",
   "id": "49280400",
   "metadata": {},
   "source": [
    "**Elimino la columna 'last_update' porque no aporta información relevante:**"
   ]
  },
  {
   "cell_type": "code",
   "execution_count": 66,
   "id": "93a19620",
   "metadata": {},
   "outputs": [],
   "source": [
    "rent=rent.drop('last_update', axis=1)"
   ]
  },
  {
   "cell_type": "markdown",
   "id": "2113d174",
   "metadata": {},
   "source": [
    "**Compruebo que ha sido eliminada la columna:**"
   ]
  },
  {
   "cell_type": "code",
   "execution_count": 67,
   "id": "d2c56a9a",
   "metadata": {},
   "outputs": [
    {
     "data": {
      "text/plain": [
       "(1000, 6)"
      ]
     },
     "execution_count": 67,
     "metadata": {},
     "output_type": "execute_result"
    }
   ],
   "source": [
    "rent.shape"
   ]
  },
  {
   "cell_type": "markdown",
   "id": "227a422c",
   "metadata": {},
   "source": [
    "**Reorganizo las columnas para dejar 'rental_date' y 'return_date' seguidas**"
   ]
  },
  {
   "cell_type": "code",
   "execution_count": 68,
   "id": "8d87bc93",
   "metadata": {},
   "outputs": [
    {
     "data": {
      "text/plain": [
       "Index(['rental_id', 'rental_date', 'inventory_id', 'customer_id',\n",
       "       'return_date', 'staff_id'],\n",
       "      dtype='object')"
      ]
     },
     "execution_count": 68,
     "metadata": {},
     "output_type": "execute_result"
    }
   ],
   "source": [
    "rent.columns"
   ]
  },
  {
   "cell_type": "code",
   "execution_count": 69,
   "id": "0b361bcd",
   "metadata": {},
   "outputs": [],
   "source": [
    "rent=rent[['rental_id','inventory_id', 'customer_id','staff_id', 'rental_date', 'return_date']]"
   ]
  },
  {
   "cell_type": "code",
   "execution_count": 70,
   "id": "ce1957d3",
   "metadata": {},
   "outputs": [
    {
     "data": {
      "text/html": [
       "<div>\n",
       "<style scoped>\n",
       "    .dataframe tbody tr th:only-of-type {\n",
       "        vertical-align: middle;\n",
       "    }\n",
       "\n",
       "    .dataframe tbody tr th {\n",
       "        vertical-align: top;\n",
       "    }\n",
       "\n",
       "    .dataframe thead th {\n",
       "        text-align: right;\n",
       "    }\n",
       "</style>\n",
       "<table border=\"1\" class=\"dataframe\">\n",
       "  <thead>\n",
       "    <tr style=\"text-align: right;\">\n",
       "      <th></th>\n",
       "      <th>rental_id</th>\n",
       "      <th>inventory_id</th>\n",
       "      <th>customer_id</th>\n",
       "      <th>staff_id</th>\n",
       "      <th>rental_date</th>\n",
       "      <th>return_date</th>\n",
       "    </tr>\n",
       "  </thead>\n",
       "  <tbody>\n",
       "    <tr>\n",
       "      <th>0</th>\n",
       "      <td>1</td>\n",
       "      <td>367</td>\n",
       "      <td>130</td>\n",
       "      <td>1</td>\n",
       "      <td>2005-05-24 22:53:30</td>\n",
       "      <td>2005-05-26 22:04:30</td>\n",
       "    </tr>\n",
       "    <tr>\n",
       "      <th>1</th>\n",
       "      <td>2</td>\n",
       "      <td>1525</td>\n",
       "      <td>459</td>\n",
       "      <td>1</td>\n",
       "      <td>2005-05-24 22:54:33</td>\n",
       "      <td>2005-05-28 19:40:33</td>\n",
       "    </tr>\n",
       "    <tr>\n",
       "      <th>2</th>\n",
       "      <td>3</td>\n",
       "      <td>1711</td>\n",
       "      <td>408</td>\n",
       "      <td>1</td>\n",
       "      <td>2005-05-24 23:03:39</td>\n",
       "      <td>2005-06-01 22:12:39</td>\n",
       "    </tr>\n",
       "    <tr>\n",
       "      <th>3</th>\n",
       "      <td>4</td>\n",
       "      <td>2452</td>\n",
       "      <td>333</td>\n",
       "      <td>2</td>\n",
       "      <td>2005-05-24 23:04:41</td>\n",
       "      <td>2005-06-03 01:43:41</td>\n",
       "    </tr>\n",
       "    <tr>\n",
       "      <th>4</th>\n",
       "      <td>5</td>\n",
       "      <td>2079</td>\n",
       "      <td>222</td>\n",
       "      <td>1</td>\n",
       "      <td>2005-05-24 23:05:21</td>\n",
       "      <td>2005-06-02 04:33:21</td>\n",
       "    </tr>\n",
       "  </tbody>\n",
       "</table>\n",
       "</div>"
      ],
      "text/plain": [
       "   rental_id  inventory_id  customer_id  staff_id          rental_date  \\\n",
       "0          1           367          130         1  2005-05-24 22:53:30   \n",
       "1          2          1525          459         1  2005-05-24 22:54:33   \n",
       "2          3          1711          408         1  2005-05-24 23:03:39   \n",
       "3          4          2452          333         2  2005-05-24 23:04:41   \n",
       "4          5          2079          222         1  2005-05-24 23:05:21   \n",
       "\n",
       "           return_date  \n",
       "0  2005-05-26 22:04:30  \n",
       "1  2005-05-28 19:40:33  \n",
       "2  2005-06-01 22:12:39  \n",
       "3  2005-06-03 01:43:41  \n",
       "4  2005-06-02 04:33:21  "
      ]
     },
     "execution_count": 70,
     "metadata": {},
     "output_type": "execute_result"
    }
   ],
   "source": [
    "rent.head()"
   ]
  },
  {
   "cell_type": "markdown",
   "id": "fedb0706",
   "metadata": {},
   "source": [
    "**Miro los valores únicos de cada columna:**"
   ]
  },
  {
   "cell_type": "code",
   "execution_count": 71,
   "id": "b33cb902",
   "metadata": {},
   "outputs": [],
   "source": [
    "#rent.return_date.unique()"
   ]
  },
  {
   "cell_type": "markdown",
   "id": "1d2e1a37",
   "metadata": {},
   "source": [
    "**Todos los valores salen con sentido, con que ya doy por limpiada esta tabla.**"
   ]
  },
  {
   "cell_type": "markdown",
   "id": "97392566",
   "metadata": {},
   "source": [
    "# Film CSV"
   ]
  },
  {
   "cell_type": "markdown",
   "id": "5bda179a",
   "metadata": {},
   "source": [
    "**Analizo el número de filas y columnas del archivo y que hay en cada una:**"
   ]
  },
  {
   "cell_type": "code",
   "execution_count": 72,
   "id": "97c46f59",
   "metadata": {},
   "outputs": [
    {
     "data": {
      "text/plain": [
       "(1000, 13)"
      ]
     },
     "execution_count": 72,
     "metadata": {},
     "output_type": "execute_result"
    }
   ],
   "source": [
    "film.shape"
   ]
  },
  {
   "cell_type": "code",
   "execution_count": 73,
   "id": "a462d444",
   "metadata": {},
   "outputs": [
    {
     "data": {
      "text/html": [
       "<div>\n",
       "<style scoped>\n",
       "    .dataframe tbody tr th:only-of-type {\n",
       "        vertical-align: middle;\n",
       "    }\n",
       "\n",
       "    .dataframe tbody tr th {\n",
       "        vertical-align: top;\n",
       "    }\n",
       "\n",
       "    .dataframe thead th {\n",
       "        text-align: right;\n",
       "    }\n",
       "</style>\n",
       "<table border=\"1\" class=\"dataframe\">\n",
       "  <thead>\n",
       "    <tr style=\"text-align: right;\">\n",
       "      <th></th>\n",
       "      <th>film_id</th>\n",
       "      <th>title</th>\n",
       "      <th>description</th>\n",
       "      <th>release_year</th>\n",
       "      <th>language_id</th>\n",
       "      <th>original_language_id</th>\n",
       "      <th>rental_duration</th>\n",
       "      <th>rental_rate</th>\n",
       "      <th>length</th>\n",
       "      <th>replacement_cost</th>\n",
       "      <th>rating</th>\n",
       "      <th>special_features</th>\n",
       "      <th>last_update</th>\n",
       "    </tr>\n",
       "  </thead>\n",
       "  <tbody>\n",
       "    <tr>\n",
       "      <th>0</th>\n",
       "      <td>1</td>\n",
       "      <td>ACADEMY DINOSAUR</td>\n",
       "      <td>A Epic Drama of a Feminist And a Mad Scientist...</td>\n",
       "      <td>2006</td>\n",
       "      <td>1</td>\n",
       "      <td>NaN</td>\n",
       "      <td>6</td>\n",
       "      <td>0.99</td>\n",
       "      <td>86</td>\n",
       "      <td>20.99</td>\n",
       "      <td>PG</td>\n",
       "      <td>Deleted Scenes,Behind the Scenes</td>\n",
       "      <td>2006-02-15 05:03:42</td>\n",
       "    </tr>\n",
       "    <tr>\n",
       "      <th>1</th>\n",
       "      <td>2</td>\n",
       "      <td>ACE GOLDFINGER</td>\n",
       "      <td>A Astounding Epistle of a Database Administrat...</td>\n",
       "      <td>2006</td>\n",
       "      <td>1</td>\n",
       "      <td>NaN</td>\n",
       "      <td>3</td>\n",
       "      <td>4.99</td>\n",
       "      <td>48</td>\n",
       "      <td>12.99</td>\n",
       "      <td>G</td>\n",
       "      <td>Trailers,Deleted Scenes</td>\n",
       "      <td>2006-02-15 05:03:42</td>\n",
       "    </tr>\n",
       "    <tr>\n",
       "      <th>2</th>\n",
       "      <td>3</td>\n",
       "      <td>ADAPTATION HOLES</td>\n",
       "      <td>A Astounding Reflection of a Lumberjack And a ...</td>\n",
       "      <td>2006</td>\n",
       "      <td>1</td>\n",
       "      <td>NaN</td>\n",
       "      <td>7</td>\n",
       "      <td>2.99</td>\n",
       "      <td>50</td>\n",
       "      <td>18.99</td>\n",
       "      <td>NC-17</td>\n",
       "      <td>Trailers,Deleted Scenes</td>\n",
       "      <td>2006-02-15 05:03:42</td>\n",
       "    </tr>\n",
       "    <tr>\n",
       "      <th>3</th>\n",
       "      <td>4</td>\n",
       "      <td>AFFAIR PREJUDICE</td>\n",
       "      <td>A Fanciful Documentary of a Frisbee And a Lumb...</td>\n",
       "      <td>2006</td>\n",
       "      <td>1</td>\n",
       "      <td>NaN</td>\n",
       "      <td>5</td>\n",
       "      <td>2.99</td>\n",
       "      <td>117</td>\n",
       "      <td>26.99</td>\n",
       "      <td>G</td>\n",
       "      <td>Commentaries,Behind the Scenes</td>\n",
       "      <td>2006-02-15 05:03:42</td>\n",
       "    </tr>\n",
       "    <tr>\n",
       "      <th>4</th>\n",
       "      <td>5</td>\n",
       "      <td>AFRICAN EGG</td>\n",
       "      <td>A Fast-Paced Documentary of a Pastry Chef And ...</td>\n",
       "      <td>2006</td>\n",
       "      <td>1</td>\n",
       "      <td>NaN</td>\n",
       "      <td>6</td>\n",
       "      <td>2.99</td>\n",
       "      <td>130</td>\n",
       "      <td>22.99</td>\n",
       "      <td>G</td>\n",
       "      <td>Deleted Scenes</td>\n",
       "      <td>2006-02-15 05:03:42</td>\n",
       "    </tr>\n",
       "  </tbody>\n",
       "</table>\n",
       "</div>"
      ],
      "text/plain": [
       "   film_id             title  \\\n",
       "0        1  ACADEMY DINOSAUR   \n",
       "1        2    ACE GOLDFINGER   \n",
       "2        3  ADAPTATION HOLES   \n",
       "3        4  AFFAIR PREJUDICE   \n",
       "4        5       AFRICAN EGG   \n",
       "\n",
       "                                         description  release_year  \\\n",
       "0  A Epic Drama of a Feminist And a Mad Scientist...          2006   \n",
       "1  A Astounding Epistle of a Database Administrat...          2006   \n",
       "2  A Astounding Reflection of a Lumberjack And a ...          2006   \n",
       "3  A Fanciful Documentary of a Frisbee And a Lumb...          2006   \n",
       "4  A Fast-Paced Documentary of a Pastry Chef And ...          2006   \n",
       "\n",
       "   language_id  original_language_id  rental_duration  rental_rate  length  \\\n",
       "0            1                   NaN                6         0.99      86   \n",
       "1            1                   NaN                3         4.99      48   \n",
       "2            1                   NaN                7         2.99      50   \n",
       "3            1                   NaN                5         2.99     117   \n",
       "4            1                   NaN                6         2.99     130   \n",
       "\n",
       "   replacement_cost rating                  special_features  \\\n",
       "0             20.99     PG  Deleted Scenes,Behind the Scenes   \n",
       "1             12.99      G           Trailers,Deleted Scenes   \n",
       "2             18.99  NC-17           Trailers,Deleted Scenes   \n",
       "3             26.99      G    Commentaries,Behind the Scenes   \n",
       "4             22.99      G                    Deleted Scenes   \n",
       "\n",
       "           last_update  \n",
       "0  2006-02-15 05:03:42  \n",
       "1  2006-02-15 05:03:42  \n",
       "2  2006-02-15 05:03:42  \n",
       "3  2006-02-15 05:03:42  \n",
       "4  2006-02-15 05:03:42  "
      ]
     },
     "execution_count": 73,
     "metadata": {},
     "output_type": "execute_result"
    }
   ],
   "source": [
    "film.head()"
   ]
  },
  {
   "cell_type": "markdown",
   "id": "a90d581e",
   "metadata": {},
   "source": [
    "**Elimino 'last_update' como en todas las demás tablas:**"
   ]
  },
  {
   "cell_type": "code",
   "execution_count": 74,
   "id": "9b4273a7",
   "metadata": {},
   "outputs": [],
   "source": [
    "film=film.drop('last_update', axis=1)"
   ]
  },
  {
   "cell_type": "markdown",
   "id": "69a54dd8",
   "metadata": {},
   "source": [
    "**Compruebo que ha sido eliminada:**"
   ]
  },
  {
   "cell_type": "code",
   "execution_count": 75,
   "id": "1ef5c3e7",
   "metadata": {},
   "outputs": [
    {
     "data": {
      "text/plain": [
       "(1000, 12)"
      ]
     },
     "execution_count": 75,
     "metadata": {},
     "output_type": "execute_result"
    }
   ],
   "source": [
    "film.shape"
   ]
  },
  {
   "cell_type": "markdown",
   "id": "84b50fc6",
   "metadata": {},
   "source": [
    "**Reviso los nulos**"
   ]
  },
  {
   "cell_type": "code",
   "execution_count": 76,
   "id": "a320fa57",
   "metadata": {},
   "outputs": [
    {
     "name": "stdout",
     "output_type": "stream",
     "text": [
      "<class 'pandas.core.frame.DataFrame'>\n",
      "RangeIndex: 1000 entries, 0 to 999\n",
      "Data columns (total 12 columns):\n",
      " #   Column                Non-Null Count  Dtype  \n",
      "---  ------                --------------  -----  \n",
      " 0   film_id               1000 non-null   int64  \n",
      " 1   title                 1000 non-null   object \n",
      " 2   description           1000 non-null   object \n",
      " 3   release_year          1000 non-null   int64  \n",
      " 4   language_id           1000 non-null   int64  \n",
      " 5   original_language_id  0 non-null      float64\n",
      " 6   rental_duration       1000 non-null   int64  \n",
      " 7   rental_rate           1000 non-null   float64\n",
      " 8   length                1000 non-null   int64  \n",
      " 9   replacement_cost      1000 non-null   float64\n",
      " 10  rating                1000 non-null   object \n",
      " 11  special_features      1000 non-null   object \n",
      "dtypes: float64(3), int64(5), object(4)\n",
      "memory usage: 421.1 KB\n"
     ]
    }
   ],
   "source": [
    "film.info(memory_usage='deep')"
   ]
  },
  {
   "cell_type": "markdown",
   "id": "c375e715",
   "metadata": {},
   "source": [
    "**Elimino la columna 'original_language_id' porque todos sus valores son nulos:**"
   ]
  },
  {
   "cell_type": "code",
   "execution_count": 77,
   "id": "1c0f55e1",
   "metadata": {},
   "outputs": [],
   "source": [
    "film=film.drop('original_language_id', axis=1)"
   ]
  },
  {
   "cell_type": "markdown",
   "id": "44b57fb7",
   "metadata": {},
   "source": [
    "**Compruebo que ha sido eliminada la columna:**"
   ]
  },
  {
   "cell_type": "code",
   "execution_count": 78,
   "id": "2cc5aa6d",
   "metadata": {},
   "outputs": [
    {
     "data": {
      "text/plain": [
       "(1000, 11)"
      ]
     },
     "execution_count": 78,
     "metadata": {},
     "output_type": "execute_result"
    }
   ],
   "source": [
    "film.shape"
   ]
  },
  {
   "cell_type": "markdown",
   "id": "58481716",
   "metadata": {},
   "source": [
    "**Miro si hay solo un valor único en una columna entera:**"
   ]
  },
  {
   "cell_type": "code",
   "execution_count": 79,
   "id": "ee901d83",
   "metadata": {},
   "outputs": [
    {
     "data": {
      "text/plain": [
       "array([2006], dtype=int64)"
      ]
     },
     "execution_count": 79,
     "metadata": {},
     "output_type": "execute_result"
    }
   ],
   "source": [
    "film.release_year.unique()"
   ]
  },
  {
   "cell_type": "markdown",
   "id": "3c2f560a",
   "metadata": {},
   "source": [
    "Elimino la columna 'release_year' porque hay un único valor único y es irrelevante la columna:"
   ]
  },
  {
   "cell_type": "code",
   "execution_count": 80,
   "id": "06305824",
   "metadata": {},
   "outputs": [],
   "source": [
    "film=film.drop('release_year', axis=1)"
   ]
  },
  {
   "cell_type": "code",
   "execution_count": 81,
   "id": "196daa1b",
   "metadata": {},
   "outputs": [
    {
     "data": {
      "text/plain": [
       "array([1], dtype=int64)"
      ]
     },
     "execution_count": 81,
     "metadata": {},
     "output_type": "execute_result"
    }
   ],
   "source": [
    "film.language_id.unique()"
   ]
  },
  {
   "cell_type": "markdown",
   "id": "cacf2312",
   "metadata": {},
   "source": [
    "**No elimino la columna 'language_id' aunque solo tenga un valor, porque me sirve para relacionarla con la tabla language y en un futuro puede que tengamos películas con más idiomas.**"
   ]
  },
  {
   "cell_type": "code",
   "execution_count": 82,
   "id": "0d8a1e8a",
   "metadata": {},
   "outputs": [
    {
     "data": {
      "text/html": [
       "<div>\n",
       "<style scoped>\n",
       "    .dataframe tbody tr th:only-of-type {\n",
       "        vertical-align: middle;\n",
       "    }\n",
       "\n",
       "    .dataframe tbody tr th {\n",
       "        vertical-align: top;\n",
       "    }\n",
       "\n",
       "    .dataframe thead th {\n",
       "        text-align: right;\n",
       "    }\n",
       "</style>\n",
       "<table border=\"1\" class=\"dataframe\">\n",
       "  <thead>\n",
       "    <tr style=\"text-align: right;\">\n",
       "      <th></th>\n",
       "      <th>film_id</th>\n",
       "      <th>title</th>\n",
       "      <th>description</th>\n",
       "      <th>language_id</th>\n",
       "      <th>rental_duration</th>\n",
       "      <th>rental_rate</th>\n",
       "      <th>length</th>\n",
       "      <th>replacement_cost</th>\n",
       "      <th>rating</th>\n",
       "      <th>special_features</th>\n",
       "    </tr>\n",
       "  </thead>\n",
       "  <tbody>\n",
       "    <tr>\n",
       "      <th>0</th>\n",
       "      <td>1</td>\n",
       "      <td>ACADEMY DINOSAUR</td>\n",
       "      <td>A Epic Drama of a Feminist And a Mad Scientist...</td>\n",
       "      <td>1</td>\n",
       "      <td>6</td>\n",
       "      <td>0.99</td>\n",
       "      <td>86</td>\n",
       "      <td>20.99</td>\n",
       "      <td>PG</td>\n",
       "      <td>Deleted Scenes,Behind the Scenes</td>\n",
       "    </tr>\n",
       "    <tr>\n",
       "      <th>1</th>\n",
       "      <td>2</td>\n",
       "      <td>ACE GOLDFINGER</td>\n",
       "      <td>A Astounding Epistle of a Database Administrat...</td>\n",
       "      <td>1</td>\n",
       "      <td>3</td>\n",
       "      <td>4.99</td>\n",
       "      <td>48</td>\n",
       "      <td>12.99</td>\n",
       "      <td>G</td>\n",
       "      <td>Trailers,Deleted Scenes</td>\n",
       "    </tr>\n",
       "    <tr>\n",
       "      <th>2</th>\n",
       "      <td>3</td>\n",
       "      <td>ADAPTATION HOLES</td>\n",
       "      <td>A Astounding Reflection of a Lumberjack And a ...</td>\n",
       "      <td>1</td>\n",
       "      <td>7</td>\n",
       "      <td>2.99</td>\n",
       "      <td>50</td>\n",
       "      <td>18.99</td>\n",
       "      <td>NC-17</td>\n",
       "      <td>Trailers,Deleted Scenes</td>\n",
       "    </tr>\n",
       "    <tr>\n",
       "      <th>3</th>\n",
       "      <td>4</td>\n",
       "      <td>AFFAIR PREJUDICE</td>\n",
       "      <td>A Fanciful Documentary of a Frisbee And a Lumb...</td>\n",
       "      <td>1</td>\n",
       "      <td>5</td>\n",
       "      <td>2.99</td>\n",
       "      <td>117</td>\n",
       "      <td>26.99</td>\n",
       "      <td>G</td>\n",
       "      <td>Commentaries,Behind the Scenes</td>\n",
       "    </tr>\n",
       "    <tr>\n",
       "      <th>4</th>\n",
       "      <td>5</td>\n",
       "      <td>AFRICAN EGG</td>\n",
       "      <td>A Fast-Paced Documentary of a Pastry Chef And ...</td>\n",
       "      <td>1</td>\n",
       "      <td>6</td>\n",
       "      <td>2.99</td>\n",
       "      <td>130</td>\n",
       "      <td>22.99</td>\n",
       "      <td>G</td>\n",
       "      <td>Deleted Scenes</td>\n",
       "    </tr>\n",
       "  </tbody>\n",
       "</table>\n",
       "</div>"
      ],
      "text/plain": [
       "   film_id             title  \\\n",
       "0        1  ACADEMY DINOSAUR   \n",
       "1        2    ACE GOLDFINGER   \n",
       "2        3  ADAPTATION HOLES   \n",
       "3        4  AFFAIR PREJUDICE   \n",
       "4        5       AFRICAN EGG   \n",
       "\n",
       "                                         description  language_id  \\\n",
       "0  A Epic Drama of a Feminist And a Mad Scientist...            1   \n",
       "1  A Astounding Epistle of a Database Administrat...            1   \n",
       "2  A Astounding Reflection of a Lumberjack And a ...            1   \n",
       "3  A Fanciful Documentary of a Frisbee And a Lumb...            1   \n",
       "4  A Fast-Paced Documentary of a Pastry Chef And ...            1   \n",
       "\n",
       "   rental_duration  rental_rate  length  replacement_cost rating  \\\n",
       "0                6         0.99      86             20.99     PG   \n",
       "1                3         4.99      48             12.99      G   \n",
       "2                7         2.99      50             18.99  NC-17   \n",
       "3                5         2.99     117             26.99      G   \n",
       "4                6         2.99     130             22.99      G   \n",
       "\n",
       "                   special_features  \n",
       "0  Deleted Scenes,Behind the Scenes  \n",
       "1           Trailers,Deleted Scenes  \n",
       "2           Trailers,Deleted Scenes  \n",
       "3    Commentaries,Behind the Scenes  \n",
       "4                    Deleted Scenes  "
      ]
     },
     "execution_count": 82,
     "metadata": {},
     "output_type": "execute_result"
    }
   ],
   "source": [
    "film.head()"
   ]
  },
  {
   "cell_type": "markdown",
   "id": "6b33a51b",
   "metadata": {},
   "source": [
    "**Modifico la columna 'title' a minúsculas:**"
   ]
  },
  {
   "cell_type": "code",
   "execution_count": 83,
   "id": "cfba0248",
   "metadata": {},
   "outputs": [],
   "source": [
    "film.title=film.title.str.lower()"
   ]
  },
  {
   "cell_type": "markdown",
   "id": "a1230fde",
   "metadata": {},
   "source": [
    "**Observo lo valores únicos de la columna 'speacial_features':**"
   ]
  },
  {
   "cell_type": "code",
   "execution_count": 84,
   "id": "88d76a38",
   "metadata": {},
   "outputs": [
    {
     "data": {
      "text/plain": [
       "array(['Deleted Scenes,Behind the Scenes', 'Trailers,Deleted Scenes',\n",
       "       'Commentaries,Behind the Scenes', 'Deleted Scenes', 'Trailers',\n",
       "       'Commentaries,Deleted Scenes',\n",
       "       'Trailers,Deleted Scenes,Behind the Scenes',\n",
       "       'Trailers,Commentaries,Behind the Scenes', 'Trailers,Commentaries',\n",
       "       'Trailers,Behind the Scenes',\n",
       "       'Commentaries,Deleted Scenes,Behind the Scenes',\n",
       "       'Trailers,Commentaries,Deleted Scenes',\n",
       "       'Trailers,Commentaries,Deleted Scenes,Behind the Scenes',\n",
       "       'Behind the Scenes', 'Commentaries'], dtype=object)"
      ]
     },
     "execution_count": 84,
     "metadata": {},
     "output_type": "execute_result"
    }
   ],
   "source": [
    "film.special_features.unique()"
   ]
  },
  {
   "cell_type": "markdown",
   "id": "787d2f4a",
   "metadata": {},
   "source": [
    "**Veo que siempre se repiten 4 tipos. Entonces decido crear 4 columnas booleanas de cada característica especial, ya que una fila puede tener varias características especiales.**"
   ]
  },
  {
   "cell_type": "code",
   "execution_count": 85,
   "id": "c94255ad",
   "metadata": {},
   "outputs": [],
   "source": [
    "def trailers_nc(row):\n",
    "    if 'Trailers' in row['special_features']:\n",
    "        return 1\n",
    "    else:\n",
    "        return 0\n",
    "film['trailers']=film.apply(trailers_nc, axis=1)\n",
    "\n",
    "def commentaries_nc(row):\n",
    "    if 'Commentaries' in row['special_features']:\n",
    "        return 1\n",
    "    else:\n",
    "        return 0\n",
    "film['commentaries']=film.apply(commentaries_nc, axis=1)\n",
    "\n",
    "def deleted_sc(row):\n",
    "    if 'Deleted Scenes' in row['special_features']:\n",
    "        return 1\n",
    "    else:\n",
    "        return 0\n",
    "film['deleted_scenes']=film.apply(deleted_sc, axis=1)\n",
    "\n",
    "def behind_nc(row):\n",
    "    if 'Behind the Scenes' in row['special_features']:\n",
    "        return 1\n",
    "    else:\n",
    "        return 0\n",
    "film['behind_the_scenes']=film.apply(behind_nc, axis=1)"
   ]
  },
  {
   "cell_type": "markdown",
   "id": "55f1770a",
   "metadata": {},
   "source": [
    "**Elimino la columna 'special_features' porque ya esta esa info en las columnas booleanas que hemos creado:**"
   ]
  },
  {
   "cell_type": "code",
   "execution_count": 86,
   "id": "e4bd0cd9",
   "metadata": {},
   "outputs": [],
   "source": [
    "film=film.drop('special_features', axis=1)"
   ]
  },
  {
   "cell_type": "markdown",
   "id": "96e8ee74",
   "metadata": {},
   "source": [
    "**Paso a minúsculas las siguientes columnas para que sea más fácil manejarlas en un futuro:**"
   ]
  },
  {
   "cell_type": "code",
   "execution_count": 87,
   "id": "8a077988",
   "metadata": {},
   "outputs": [],
   "source": [
    "film.description=film.description.str.lower()"
   ]
  },
  {
   "cell_type": "code",
   "execution_count": 88,
   "id": "def054e0",
   "metadata": {},
   "outputs": [],
   "source": [
    "film.title=film.title.str.lower()"
   ]
  },
  {
   "cell_type": "code",
   "execution_count": 89,
   "id": "11926002",
   "metadata": {},
   "outputs": [
    {
     "data": {
      "text/html": [
       "<div>\n",
       "<style scoped>\n",
       "    .dataframe tbody tr th:only-of-type {\n",
       "        vertical-align: middle;\n",
       "    }\n",
       "\n",
       "    .dataframe tbody tr th {\n",
       "        vertical-align: top;\n",
       "    }\n",
       "\n",
       "    .dataframe thead th {\n",
       "        text-align: right;\n",
       "    }\n",
       "</style>\n",
       "<table border=\"1\" class=\"dataframe\">\n",
       "  <thead>\n",
       "    <tr style=\"text-align: right;\">\n",
       "      <th></th>\n",
       "      <th>film_id</th>\n",
       "      <th>title</th>\n",
       "      <th>description</th>\n",
       "      <th>language_id</th>\n",
       "      <th>rental_duration</th>\n",
       "      <th>rental_rate</th>\n",
       "      <th>length</th>\n",
       "      <th>replacement_cost</th>\n",
       "      <th>rating</th>\n",
       "      <th>trailers</th>\n",
       "      <th>commentaries</th>\n",
       "      <th>deleted_scenes</th>\n",
       "      <th>behind_the_scenes</th>\n",
       "    </tr>\n",
       "  </thead>\n",
       "  <tbody>\n",
       "    <tr>\n",
       "      <th>0</th>\n",
       "      <td>1</td>\n",
       "      <td>academy dinosaur</td>\n",
       "      <td>a epic drama of a feminist and a mad scientist...</td>\n",
       "      <td>1</td>\n",
       "      <td>6</td>\n",
       "      <td>0.99</td>\n",
       "      <td>86</td>\n",
       "      <td>20.99</td>\n",
       "      <td>PG</td>\n",
       "      <td>0</td>\n",
       "      <td>0</td>\n",
       "      <td>1</td>\n",
       "      <td>1</td>\n",
       "    </tr>\n",
       "    <tr>\n",
       "      <th>1</th>\n",
       "      <td>2</td>\n",
       "      <td>ace goldfinger</td>\n",
       "      <td>a astounding epistle of a database administrat...</td>\n",
       "      <td>1</td>\n",
       "      <td>3</td>\n",
       "      <td>4.99</td>\n",
       "      <td>48</td>\n",
       "      <td>12.99</td>\n",
       "      <td>G</td>\n",
       "      <td>1</td>\n",
       "      <td>0</td>\n",
       "      <td>1</td>\n",
       "      <td>0</td>\n",
       "    </tr>\n",
       "    <tr>\n",
       "      <th>2</th>\n",
       "      <td>3</td>\n",
       "      <td>adaptation holes</td>\n",
       "      <td>a astounding reflection of a lumberjack and a ...</td>\n",
       "      <td>1</td>\n",
       "      <td>7</td>\n",
       "      <td>2.99</td>\n",
       "      <td>50</td>\n",
       "      <td>18.99</td>\n",
       "      <td>NC-17</td>\n",
       "      <td>1</td>\n",
       "      <td>0</td>\n",
       "      <td>1</td>\n",
       "      <td>0</td>\n",
       "    </tr>\n",
       "    <tr>\n",
       "      <th>3</th>\n",
       "      <td>4</td>\n",
       "      <td>affair prejudice</td>\n",
       "      <td>a fanciful documentary of a frisbee and a lumb...</td>\n",
       "      <td>1</td>\n",
       "      <td>5</td>\n",
       "      <td>2.99</td>\n",
       "      <td>117</td>\n",
       "      <td>26.99</td>\n",
       "      <td>G</td>\n",
       "      <td>0</td>\n",
       "      <td>1</td>\n",
       "      <td>0</td>\n",
       "      <td>1</td>\n",
       "    </tr>\n",
       "    <tr>\n",
       "      <th>4</th>\n",
       "      <td>5</td>\n",
       "      <td>african egg</td>\n",
       "      <td>a fast-paced documentary of a pastry chef and ...</td>\n",
       "      <td>1</td>\n",
       "      <td>6</td>\n",
       "      <td>2.99</td>\n",
       "      <td>130</td>\n",
       "      <td>22.99</td>\n",
       "      <td>G</td>\n",
       "      <td>0</td>\n",
       "      <td>0</td>\n",
       "      <td>1</td>\n",
       "      <td>0</td>\n",
       "    </tr>\n",
       "  </tbody>\n",
       "</table>\n",
       "</div>"
      ],
      "text/plain": [
       "   film_id             title  \\\n",
       "0        1  academy dinosaur   \n",
       "1        2    ace goldfinger   \n",
       "2        3  adaptation holes   \n",
       "3        4  affair prejudice   \n",
       "4        5       african egg   \n",
       "\n",
       "                                         description  language_id  \\\n",
       "0  a epic drama of a feminist and a mad scientist...            1   \n",
       "1  a astounding epistle of a database administrat...            1   \n",
       "2  a astounding reflection of a lumberjack and a ...            1   \n",
       "3  a fanciful documentary of a frisbee and a lumb...            1   \n",
       "4  a fast-paced documentary of a pastry chef and ...            1   \n",
       "\n",
       "   rental_duration  rental_rate  length  replacement_cost rating  trailers  \\\n",
       "0                6         0.99      86             20.99     PG         0   \n",
       "1                3         4.99      48             12.99      G         1   \n",
       "2                7         2.99      50             18.99  NC-17         1   \n",
       "3                5         2.99     117             26.99      G         0   \n",
       "4                6         2.99     130             22.99      G         0   \n",
       "\n",
       "   commentaries  deleted_scenes  behind_the_scenes  \n",
       "0             0               1                  1  \n",
       "1             0               1                  0  \n",
       "2             0               1                  0  \n",
       "3             1               0                  1  \n",
       "4             0               1                  0  "
      ]
     },
     "execution_count": 89,
     "metadata": {},
     "output_type": "execute_result"
    }
   ],
   "source": [
    "film.head()"
   ]
  },
  {
   "cell_type": "markdown",
   "id": "927f3a1a",
   "metadata": {},
   "source": [
    "**Para relacionar film y old hago un merge en la tabla old**"
   ]
  },
  {
   "cell_type": "code",
   "execution_count": 90,
   "id": "b7c130f4",
   "metadata": {},
   "outputs": [
    {
     "data": {
      "text/html": [
       "<div>\n",
       "<style scoped>\n",
       "    .dataframe tbody tr th:only-of-type {\n",
       "        vertical-align: middle;\n",
       "    }\n",
       "\n",
       "    .dataframe tbody tr th {\n",
       "        vertical-align: top;\n",
       "    }\n",
       "\n",
       "    .dataframe thead th {\n",
       "        text-align: right;\n",
       "    }\n",
       "</style>\n",
       "<table border=\"1\" class=\"dataframe\">\n",
       "  <thead>\n",
       "    <tr style=\"text-align: right;\">\n",
       "      <th></th>\n",
       "      <th>title</th>\n",
       "      <th>category_id</th>\n",
       "      <th>old_id</th>\n",
       "      <th>actor_id</th>\n",
       "      <th>film_id</th>\n",
       "    </tr>\n",
       "  </thead>\n",
       "  <tbody>\n",
       "    <tr>\n",
       "      <th>0</th>\n",
       "      <td>academy dinosaur</td>\n",
       "      <td>6</td>\n",
       "      <td>1</td>\n",
       "      <td>1</td>\n",
       "      <td>1</td>\n",
       "    </tr>\n",
       "    <tr>\n",
       "      <th>1</th>\n",
       "      <td>anaconda confessions</td>\n",
       "      <td>2</td>\n",
       "      <td>2</td>\n",
       "      <td>1</td>\n",
       "      <td>23</td>\n",
       "    </tr>\n",
       "    <tr>\n",
       "      <th>2</th>\n",
       "      <td>angels life</td>\n",
       "      <td>13</td>\n",
       "      <td>3</td>\n",
       "      <td>1</td>\n",
       "      <td>25</td>\n",
       "    </tr>\n",
       "    <tr>\n",
       "      <th>3</th>\n",
       "      <td>bulworth commandments</td>\n",
       "      <td>10</td>\n",
       "      <td>4</td>\n",
       "      <td>1</td>\n",
       "      <td>106</td>\n",
       "    </tr>\n",
       "    <tr>\n",
       "      <th>4</th>\n",
       "      <td>cheaper clyde</td>\n",
       "      <td>14</td>\n",
       "      <td>5</td>\n",
       "      <td>1</td>\n",
       "      <td>140</td>\n",
       "    </tr>\n",
       "  </tbody>\n",
       "</table>\n",
       "</div>"
      ],
      "text/plain": [
       "                   title  category_id  old_id  actor_id  film_id\n",
       "0       academy dinosaur            6       1         1        1\n",
       "1   anaconda confessions            2       2         1       23\n",
       "2            angels life           13       3         1       25\n",
       "3  bulworth commandments           10       4         1      106\n",
       "4          cheaper clyde           14       5         1      140"
      ]
     },
     "execution_count": 90,
     "metadata": {},
     "output_type": "execute_result"
    }
   ],
   "source": [
    "old = old.merge(film[['title', 'film_id']], on='title', how='left')\n",
    "old.head()"
   ]
  },
  {
   "cell_type": "markdown",
   "id": "d5d11f47",
   "metadata": {},
   "source": [
    "**Muevo la columna old_id a la primeraposición:**"
   ]
  },
  {
   "cell_type": "code",
   "execution_count": 91,
   "id": "c5ef5afb",
   "metadata": {},
   "outputs": [
    {
     "data": {
      "text/plain": [
       "Index(['title', 'category_id', 'old_id', 'actor_id', 'film_id'], dtype='object')"
      ]
     },
     "execution_count": 91,
     "metadata": {},
     "output_type": "execute_result"
    }
   ],
   "source": [
    "old.columns"
   ]
  },
  {
   "cell_type": "code",
   "execution_count": 92,
   "id": "64b8e00f",
   "metadata": {},
   "outputs": [],
   "source": [
    "old=old[['old_id', 'title', 'category_id', 'actor_id', 'film_id']]"
   ]
  },
  {
   "cell_type": "code",
   "execution_count": null,
   "id": "aaa397c7",
   "metadata": {},
   "outputs": [],
   "source": []
  },
  {
   "cell_type": "markdown",
   "id": "446740e5",
   "metadata": {},
   "source": [
    "# **Exportamos los CSV limpios a una carpeta nueva**"
   ]
  },
  {
   "cell_type": "code",
   "execution_count": 93,
   "id": "ef0a388a",
   "metadata": {},
   "outputs": [],
   "source": [
    "actor.to_csv('../csv/limpios/actor_limpio.csv', index=False)"
   ]
  },
  {
   "cell_type": "code",
   "execution_count": 94,
   "id": "ff2aa220",
   "metadata": {},
   "outputs": [],
   "source": [
    "categ.to_csv('../csv/limpios/category_limpio.csv', index=False)"
   ]
  },
  {
   "cell_type": "code",
   "execution_count": 95,
   "id": "f01733a0",
   "metadata": {},
   "outputs": [],
   "source": [
    "lang.to_csv('../csv/limpios/language_limpio.csv', index=False)"
   ]
  },
  {
   "cell_type": "code",
   "execution_count": 96,
   "id": "db5adce9",
   "metadata": {},
   "outputs": [],
   "source": [
    "inven.to_csv('../csv/limpios/inventory_limpio.csv', index=False)"
   ]
  },
  {
   "cell_type": "code",
   "execution_count": 97,
   "id": "28314aa3",
   "metadata": {},
   "outputs": [],
   "source": [
    "old.to_csv('../csv/limpios/old_limpio.csv', index=False)"
   ]
  },
  {
   "cell_type": "code",
   "execution_count": 98,
   "id": "0239e92a",
   "metadata": {},
   "outputs": [],
   "source": [
    "rent.to_csv('../csv/limpios/rental_limpio.csv', index=False)"
   ]
  },
  {
   "cell_type": "code",
   "execution_count": 99,
   "id": "72b82c02",
   "metadata": {},
   "outputs": [],
   "source": [
    "film.to_csv('../csv/limpios/film_limpio.csv', index=False)"
   ]
  }
 ],
 "metadata": {
  "kernelspec": {
   "display_name": "Python 3 (ipykernel)",
   "language": "python",
   "name": "python3"
  },
  "language_info": {
   "codemirror_mode": {
    "name": "ipython",
    "version": 3
   },
   "file_extension": ".py",
   "mimetype": "text/x-python",
   "name": "python",
   "nbconvert_exporter": "python",
   "pygments_lexer": "ipython3",
   "version": "3.11.4"
  }
 },
 "nbformat": 4,
 "nbformat_minor": 5
}
